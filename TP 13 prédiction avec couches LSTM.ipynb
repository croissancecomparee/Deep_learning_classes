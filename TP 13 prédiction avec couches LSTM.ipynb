{
 "cells": [
  {
   "cell_type": "code",
   "execution_count": 119,
   "id": "93ad08c2",
   "metadata": {},
   "outputs": [],
   "source": [
    "%reset -f\n",
    "from tensorflow.keras.models import Sequential\n",
    "from tensorflow.keras.layers import LeakyReLU \n",
    "from tensorflow.keras.layers import Dense, Dropout, BatchNormalization,Conv2D,Lambda, LSTM\n",
    "from tensorflow.keras.optimizers import Adam\n",
    "import tensorflow as tf\n",
    "\n",
    "\n",
    "from tensorflow.keras.models import Model\n",
    "from tensorflow.keras import Input\n",
    "\n",
    "from tensorflow.keras.datasets.mnist import load_data\n",
    "\n",
    "# Libraires traitements données avant de s'entrainer\n",
    "from sklearn.utils import shuffle\n",
    "from sklearn.preprocessing import minmax_scale\n",
    "\n",
    "# Libraires classique\n",
    "import numpy as np\n",
    "import matplotlib.pyplot as plt\n",
    "import random\n",
    "\n",
    "# pandas\n",
    "import pandas as pd\n"
   ]
  },
  {
   "cell_type": "code",
   "execution_count": 120,
   "id": "1297ae6c",
   "metadata": {},
   "outputs": [],
   "source": [
    "#fix random seed for reproductability\n",
    "seed=7 #afin de toujours générer les mêmes nombres aléatoires \n",
    "np.random.seed(seed)\n",
    "n_samples= 128\n",
    "latent_dim = 100\n",
    "Niter = 10000\n",
    "lr1 = 0.001\n",
    "lr2 = 0.0001\n",
    "time_steps=20"
   ]
  },
  {
   "cell_type": "markdown",
   "id": "a54c6dd2",
   "metadata": {},
   "source": [
    "># Data loading"
   ]
  },
  {
   "cell_type": "code",
   "execution_count": 121,
   "id": "fee3bfc1",
   "metadata": {},
   "outputs": [
    {
     "data": {
      "text/plain": [
       "array([[-7.83001781e-01,  3.22366881e+00, -1.05017734e+00, ...,\n",
       "         1.67788565e+00,  7.35204220e-01,  2.71000004e+00],\n",
       "       [ 5.82768381e-01,  1.26537287e+00,  3.31506103e-01, ...,\n",
       "         1.15772474e+00, -4.77928221e-01,  1.75999999e+00],\n",
       "       [ 1.37821400e+00,  4.43961716e+00, -9.84977603e-01, ...,\n",
       "         2.13262892e+00,  6.27748430e-01,  2.00000000e+00],\n",
       "       ...,\n",
       "       [ 2.79434514e+00,  1.27241573e+01, -1.20561590e+01, ...,\n",
       "         2.22915149e+00, -1.34131098e+00,  2.64000010e+00],\n",
       "       [ 1.50969052e+00,  2.43533373e+00,  9.29814339e+00, ...,\n",
       "         2.11973572e+00,  1.23632317e-02,  2.89000010e+00],\n",
       "       [ 3.88355637e+00,  5.68180180e+00,  9.57663894e-01, ...,\n",
       "         3.54852915e+00,  4.55817890e+00,  3.64000010e+00]])"
      ]
     },
     "execution_count": 121,
     "metadata": {},
     "output_type": "execute_result"
    }
   ],
   "source": [
    "data = np.load('dataset.npy')\n",
    "data"
   ]
  },
  {
   "cell_type": "code",
   "execution_count": 122,
   "id": "2a7e5aa9",
   "metadata": {},
   "outputs": [],
   "source": [
    "X_train = np.zeros((1300,20,58))"
   ]
  },
  {
   "cell_type": "code",
   "execution_count": 123,
   "id": "4ece0090",
   "metadata": {},
   "outputs": [
    {
     "data": {
      "text/plain": [
       "array([[[-0.78300178,  3.22366881, -1.05017734, ...,  1.67788565,\n",
       "          0.73520422,  2.71000004],\n",
       "        [ 0.58276838,  1.26537287,  0.3315061 , ...,  1.15772474,\n",
       "         -0.47792822,  1.75999999],\n",
       "        [ 1.378214  ,  4.43961716, -0.9849776 , ...,  2.13262892,\n",
       "          0.62774843,  2.        ],\n",
       "        ...,\n",
       "        [-0.2789402 ,  1.29782939, -1.0897876 , ...,  1.33365953,\n",
       "         -1.27552748,  1.29999995],\n",
       "        [-2.12925005,  4.85793686, -5.69753218, ...,  2.17745233,\n",
       "         -1.30720818,  2.78999996],\n",
       "        [-1.88002646,  7.23364449, -2.1368928 , ...,  4.62183857,\n",
       "          1.95700967,  6.26000023]],\n",
       "\n",
       "       [[ 0.58276838,  1.26537287,  0.3315061 , ...,  1.15772474,\n",
       "         -0.47792822,  1.75999999],\n",
       "        [ 1.378214  ,  4.43961716, -0.9849776 , ...,  2.13262892,\n",
       "          0.62774843,  2.        ],\n",
       "        [ 0.58032346,  1.3730427 , -1.10211813, ...,  2.05557275,\n",
       "         -0.35282296,  1.90999997],\n",
       "        ...,\n",
       "        [-2.12925005,  4.85793686, -5.69753218, ...,  2.17745233,\n",
       "         -1.30720818,  2.78999996],\n",
       "        [-1.88002646,  7.23364449, -2.1368928 , ...,  4.62183857,\n",
       "          1.95700967,  6.26000023],\n",
       "        [ 3.54798102,  3.29503322,  2.91541886, ...,  1.95919073,\n",
       "          1.26436985,  1.38999999]],\n",
       "\n",
       "       [[ 1.378214  ,  4.43961716, -0.9849776 , ...,  2.13262892,\n",
       "          0.62774843,  2.        ],\n",
       "        [ 0.58032346,  1.3730427 , -1.10211813, ...,  2.05557275,\n",
       "         -0.35282296,  1.90999997],\n",
       "        [-3.16649151,  5.61839485, -1.56253183, ...,  1.72343075,\n",
       "         -0.60332006,  1.21000004],\n",
       "        ...,\n",
       "        [-1.88002646,  7.23364449, -2.1368928 , ...,  4.62183857,\n",
       "          1.95700967,  6.26000023],\n",
       "        [ 3.54798102,  3.29503322,  2.91541886, ...,  1.95919073,\n",
       "          1.26436985,  1.38999999],\n",
       "        [-2.22826886,  4.00593567, -1.2484895 , ...,  1.53951764,\n",
       "         -0.28136608,  1.12      ]],\n",
       "\n",
       "       ...,\n",
       "\n",
       "       [[-1.35026908,  2.69439125, -0.11968882, ...,  3.42373538,\n",
       "         -1.07348275,  1.24000001],\n",
       "        [ 0.91703051,  1.07531297,  1.08205307, ...,  0.74623883,\n",
       "          1.18846905,  0.88999999],\n",
       "        [ 0.30893734,  0.94841129,  0.9994204 , ...,  0.7067017 ,\n",
       "          1.20197117,  1.09000003],\n",
       "        ...,\n",
       "        [-1.72296309,  2.29156518, -0.53956968, ...,  0.77017522,\n",
       "         -0.9333747 ,  1.48000002],\n",
       "        [-0.02850221,  0.9797284 ,  0.15026298, ...,  0.76383018,\n",
       "          0.46620131,  0.87      ],\n",
       "        [ 0.14251107,  1.00432038,  0.43449014, ...,  0.48522446,\n",
       "         -0.1226796 ,  0.61000001]],\n",
       "\n",
       "       [[ 0.91703051,  1.07531297,  1.08205307, ...,  0.74623883,\n",
       "          1.18846905,  0.88999999],\n",
       "        [ 0.30893734,  0.94841129,  0.9994204 , ...,  0.7067017 ,\n",
       "          1.20197117,  1.09000003],\n",
       "        [ 0.66731173,  2.1513412 ,  0.81895751, ...,  1.0958178 ,\n",
       "          1.39506781,  1.42999995],\n",
       "        ...,\n",
       "        [-0.02850221,  0.9797284 ,  0.15026298, ...,  0.76383018,\n",
       "          0.46620131,  0.87      ],\n",
       "        [ 0.14251107,  1.00432038,  0.43449014, ...,  0.48522446,\n",
       "         -0.1226796 ,  0.61000001],\n",
       "        [-0.96894461,  0.70695865,  0.53420514, ...,  0.51747811,\n",
       "          0.6483317 ,  0.46000001]],\n",
       "\n",
       "       [[ 0.30893734,  0.94841129,  0.9994204 , ...,  0.7067017 ,\n",
       "          1.20197117,  1.09000003],\n",
       "        [ 0.66731173,  2.1513412 ,  0.81895751, ...,  1.0958178 ,\n",
       "          1.39506781,  1.42999995],\n",
       "        [-0.82742786,  1.76194823, -0.65765673, ...,  0.62389284,\n",
       "          0.85026491,  1.03999996],\n",
       "        ...,\n",
       "        [ 0.14251107,  1.00432038,  0.43449014, ...,  0.48522446,\n",
       "         -0.1226796 ,  0.61000001],\n",
       "        [-0.96894461,  0.70695865,  0.53420514, ...,  0.51747811,\n",
       "          0.6483317 ,  0.46000001],\n",
       "        [-0.4739005 ,  1.1457895 ,  0.50022173, ...,  0.5089469 ,\n",
       "          0.16595395,  0.69      ]]])"
      ]
     },
     "execution_count": 123,
     "metadata": {},
     "output_type": "execute_result"
    }
   ],
   "source": [
    "for k in range(1300):\n",
    "    X_train[k] = data[k:k+20]\n",
    "X_train"
   ]
  },
  {
   "cell_type": "code",
   "execution_count": 124,
   "id": "40d1c3a0",
   "metadata": {},
   "outputs": [],
   "source": [
    "X_test = np.zeros((300,20,58))"
   ]
  },
  {
   "cell_type": "code",
   "execution_count": 125,
   "id": "360faf9b",
   "metadata": {},
   "outputs": [
    {
     "data": {
      "text/plain": [
       "array([[[ 0.66731173,  2.1513412 ,  0.81895751, ...,  1.0958178 ,\n",
       "          1.39506781,  1.42999995],\n",
       "        [-0.82742786,  1.76194823, -0.65765673, ...,  0.62389284,\n",
       "          0.85026491,  1.03999996],\n",
       "        [ 1.80078661,  1.56249452, -0.11735369, ...,  0.58890164,\n",
       "          0.26700503,  0.73000002],\n",
       "        ...,\n",
       "        [-0.96894461,  0.70695865,  0.53420514, ...,  0.51747811,\n",
       "          0.6483317 ,  0.46000001],\n",
       "        [-0.4739005 ,  1.1457895 ,  0.50022173, ...,  0.5089469 ,\n",
       "          0.16595395,  0.69      ],\n",
       "        [-0.63676047,  1.23704135,  0.16092461, ...,  0.63711751,\n",
       "          0.53860092,  0.91000003]],\n",
       "\n",
       "       [[-0.82742786,  1.76194823, -0.65765673, ...,  0.62389284,\n",
       "          0.85026491,  1.03999996],\n",
       "        [ 1.80078661,  1.56249452, -0.11735369, ...,  0.58890164,\n",
       "          0.26700503,  0.73000002],\n",
       "        [ 0.26358193,  2.20727944, -0.1984784 , ...,  0.81833446,\n",
       "          0.02651113,  1.09000003],\n",
       "        ...,\n",
       "        [-0.4739005 ,  1.1457895 ,  0.50022173, ...,  0.5089469 ,\n",
       "          0.16595395,  0.69      ],\n",
       "        [-0.63676047,  1.23704135,  0.16092461, ...,  0.63711751,\n",
       "          0.53860092,  0.91000003],\n",
       "        [ 0.56980211,  2.21300292,  0.88863575, ...,  0.72025418,\n",
       "         -0.63712931,  0.79000002]],\n",
       "\n",
       "       [[ 1.80078661,  1.56249452, -0.11735369, ...,  0.58890164,\n",
       "          0.26700503,  0.73000002],\n",
       "        [ 0.26358193,  2.20727944, -0.1984784 , ...,  0.81833446,\n",
       "          0.02651113,  1.09000003],\n",
       "        [-0.44020614,  1.85929978, -0.60503393, ...,  0.59675056,\n",
       "          0.87522107,  0.68000001],\n",
       "        ...,\n",
       "        [-0.63676047,  1.23704135,  0.16092461, ...,  0.63711751,\n",
       "          0.53860092,  0.91000003],\n",
       "        [ 0.56980211,  2.21300292,  0.88863575, ...,  0.72025418,\n",
       "         -0.63712931,  0.79000002],\n",
       "        [-0.95473021,  1.54527485,  0.04315615, ...,  0.6763559 ,\n",
       "          2.17978477,  0.56      ]],\n",
       "\n",
       "       ...,\n",
       "\n",
       "       [[-2.44019222,  5.03670692,  1.34038794, ...,  1.85042   ,\n",
       "         -0.30685994,  2.16000009],\n",
       "        [-0.52893907,  2.66045499, -2.14647746, ...,  0.987679  ,\n",
       "         -1.24727726,  1.12      ],\n",
       "        [ 0.9888832 ,  3.14297676, -0.19512202, ...,  1.26558936,\n",
       "         -0.37553388,  1.17999995],\n",
       "        ...,\n",
       "        [ 0.61146009,  3.52508855, -5.78898621, ...,  1.19568074,\n",
       "          2.95730591,  1.40999997],\n",
       "        [-2.76404548,  5.33184862, -1.33113444, ...,  2.36313534,\n",
       "          0.02301231,  1.75999999],\n",
       "        [-0.35130423,  5.19197702, -1.10424411, ...,  2.31411505,\n",
       "          0.09131379,  2.69000006]],\n",
       "\n",
       "       [[-0.52893907,  2.66045499, -2.14647746, ...,  0.987679  ,\n",
       "         -1.24727726,  1.12      ],\n",
       "        [ 0.9888832 ,  3.14297676, -0.19512202, ...,  1.26558936,\n",
       "         -0.37553388,  1.17999995],\n",
       "        [-2.17372704,  4.53892946, -0.80321717, ...,  1.10183227,\n",
       "         -2.1876142 ,  1.75999999],\n",
       "        ...,\n",
       "        [-2.76404548,  5.33184862, -1.33113444, ...,  2.36313534,\n",
       "          0.02301231,  1.75999999],\n",
       "        [-0.35130423,  5.19197702, -1.10424411, ...,  2.31411505,\n",
       "          0.09131379,  2.69000006],\n",
       "        [-3.20227838,  5.24291754, -2.87840152, ...,  1.8492893 ,\n",
       "         -1.7306031 ,  3.33999991]],\n",
       "\n",
       "       [[ 0.9888832 ,  3.14297676, -0.19512202, ...,  1.26558936,\n",
       "         -0.37553388,  1.17999995],\n",
       "        [-2.17372704,  4.53892946, -0.80321717, ...,  1.10183227,\n",
       "         -2.1876142 ,  1.75999999],\n",
       "        [-1.32722723,  5.11828756, -0.47479492, ...,  1.17273855,\n",
       "          0.51383972,  1.87      ],\n",
       "        ...,\n",
       "        [-0.35130423,  5.19197702, -1.10424411, ...,  2.31411505,\n",
       "          0.09131379,  2.69000006],\n",
       "        [-3.20227838,  5.24291754, -2.87840152, ...,  1.8492893 ,\n",
       "         -1.7306031 ,  3.33999991],\n",
       "        [ 0.19849716,  5.81040096, -0.6825965 , ...,  3.21631289,\n",
       "          0.18980248,  2.6099999 ]]])"
      ]
     },
     "execution_count": 125,
     "metadata": {},
     "output_type": "execute_result"
    }
   ],
   "source": [
    "for k in range(300):\n",
    "    X_test[k] = data[1300+k:1320+k]\n",
    "X_test"
   ]
  },
  {
   "cell_type": "markdown",
   "id": "5b45c036",
   "metadata": {},
   "source": [
    "### Normalisation des données "
   ]
  },
  {
   "cell_type": "code",
   "execution_count": 126,
   "id": "d716eccb",
   "metadata": {},
   "outputs": [
    {
     "name": "stdout",
     "output_type": "stream",
     "text": [
      "mu: [-0.1166307   3.14107658 -0.04011315  2.19112573  0.04719889  2.11582746\n",
      "  0.02624354  2.54621493  0.07429094  1.23820196 -0.01572099  2.24752555\n",
      " -0.00557022  2.20901654 -0.01861671  1.61384461 -0.01126602  1.89319177\n",
      "  0.05958467  2.84782318 -0.03806358  1.9540121  -0.18908329  3.23813642\n",
      " -0.02768227  2.52090402  0.03598356  1.56131556 -0.07911     3.77706841\n",
      "  0.01744245  1.42699366  0.0074425   2.98766887  0.04880688  1.31753112\n",
      "  0.09707499  2.34556616 -0.00612595  1.32470551  0.03678727  2.17588177\n",
      " -0.02135862  2.10687817  0.10359043  1.07402255 -0.00786091  0.74332766\n",
      " -0.02410385  2.79227415 -0.01289601  1.83316786 -0.03323821  2.43276501\n",
      " -0.02841867  1.6673663   0.02884083  1.73431769]\n",
      "sigma: [1.62988301 2.78400071 1.45870699 3.26338427 1.39930173 3.63911729\n",
      " 1.47192143 2.76279564 1.05051598 1.75849385 1.38401079 4.76760418\n",
      " 1.48732143 1.8757085  1.19424924 1.42194571 1.24501492 2.28177373\n",
      " 1.53669297 3.62945491 1.33105755 3.0105356  1.91583087 3.32571249\n",
      " 1.49259626 3.23280701 1.22019293 1.85349157 1.96762986 4.28393334\n",
      " 1.03243375 2.37250293 1.75447321 8.32456685 0.99320326 1.69337832\n",
      " 1.41954382 3.0653577  1.08803546 1.33025965 1.39194112 3.38613757\n",
      " 1.42927078 2.56125706 0.91251535 1.05448165 0.90261961 1.08030158\n",
      " 1.74224003 3.96272722 1.30259876 1.91329026 1.4384256  3.41623994\n",
      " 1.15733234 2.13067423 1.24170576 1.96652743]\n"
     ]
    }
   ],
   "source": [
    "mu = np.mean(X_train,axis=(0,1))\n",
    "sigma = np.std(X_train,axis=(0,1))\n",
    "print(f'mu: {mu}\\nsigma: {sigma}')"
   ]
  },
  {
   "cell_type": "code",
   "execution_count": 127,
   "id": "ba99a504",
   "metadata": {},
   "outputs": [],
   "source": [
    "X_train_normalized = (X_train - mu)/sigma"
   ]
  },
  {
   "cell_type": "markdown",
   "id": "7fab09fc",
   "metadata": {},
   "source": [
    "#### Vérification"
   ]
  },
  {
   "cell_type": "code",
   "execution_count": 128,
   "id": "8edcf174",
   "metadata": {},
   "outputs": [
    {
     "name": "stdout",
     "output_type": "stream",
     "text": [
      "moy: [-4.84825855e-17 -1.05285438e-14  3.49318864e-16  3.30052865e-15\n",
      "  1.55179288e-16 -2.11950329e-15 -1.46966307e-16 -3.76078655e-15\n",
      " -5.67186522e-16  1.70295188e-15 -2.58895469e-17  5.83333488e-15\n",
      "  5.40640182e-16  1.77787699e-15  1.78078038e-16  4.56137265e-16\n",
      "  2.49492734e-16  1.99477080e-15  2.22516450e-16  3.66600767e-15\n",
      "  2.30681927e-16  6.56003030e-15  5.76718160e-17  1.17944543e-15\n",
      "  2.62670227e-16 -5.06533277e-15  6.80536823e-16 -2.84699401e-15\n",
      " -7.04137603e-18 -1.11548804e-15 -4.47142323e-16  1.60620128e-15\n",
      " -7.42440297e-17  2.83689845e-15  9.34192894e-16  8.37330205e-15\n",
      " -1.14438373e-18 -4.35211482e-15  8.46256825e-16  3.10512300e-16\n",
      " -9.35486731e-16 -1.95964185e-15 -2.56828746e-16 -6.27547160e-15\n",
      "  4.26154838e-17 -3.11180141e-15  3.88982116e-16  4.76230593e-15\n",
      " -1.22639078e-16 -1.50573998e-16  1.14090361e-16 -3.10294525e-16\n",
      " -1.12375921e-16  5.82095910e-15 -8.91466388e-17 -9.31561238e-15\n",
      "  4.13568752e-17  2.64109247e-16]\n",
      "ecart_type: [1. 1. 1. 1. 1. 1. 1. 1. 1. 1. 1. 1. 1. 1. 1. 1. 1. 1. 1. 1. 1. 1. 1. 1.\n",
      " 1. 1. 1. 1. 1. 1. 1. 1. 1. 1. 1. 1. 1. 1. 1. 1. 1. 1. 1. 1. 1. 1. 1. 1.\n",
      " 1. 1. 1. 1. 1. 1. 1. 1. 1. 1.]\n"
     ]
    }
   ],
   "source": [
    "print(f'moy: {np.mean(X_train_normalized,axis=(0,1))}\\necart_type: {np.std(X_train_normalized,axis=(0,1))}')"
   ]
  },
  {
   "cell_type": "markdown",
   "id": "9e342058",
   "metadata": {},
   "source": [
    "># Creation du modèle"
   ]
  },
  {
   "cell_type": "code",
   "execution_count": 129,
   "id": "a5866285",
   "metadata": {},
   "outputs": [],
   "source": [
    "model = Sequential()"
   ]
  },
  {
   "cell_type": "code",
   "execution_count": 130,
   "id": "adcda10d",
   "metadata": {},
   "outputs": [],
   "source": [
    "model.add(LSTM(units=58,activation='tanh'))"
   ]
  },
  {
   "cell_type": "code",
   "execution_count": 131,
   "id": "dedf4f42",
   "metadata": {},
   "outputs": [],
   "source": [
    "model.add(Dense(units=1))"
   ]
  },
  {
   "cell_type": "code",
   "execution_count": 132,
   "id": "9d2fb43b",
   "metadata": {},
   "outputs": [],
   "source": [
    "model.compile(optimizer='adam',loss='mse')"
   ]
  },
  {
   "cell_type": "code",
   "execution_count": 134,
   "id": "b2720333",
   "metadata": {},
   "outputs": [
    {
     "name": "stdout",
     "output_type": "stream",
     "text": [
      "Epoch 1/10\n"
     ]
    },
    {
     "ename": "NotImplementedError",
     "evalue": "in user code:\n\n    C:\\ProgramData\\anaconda3\\envs\\Tensorflow_GPU_0\\lib\\site-packages\\tensorflow\\python\\keras\\engine\\training.py:855 train_function  *\n        return step_function(self, iterator)\n    C:\\ProgramData\\anaconda3\\envs\\Tensorflow_GPU_0\\lib\\site-packages\\tensorflow\\python\\keras\\engine\\training.py:845 step_function  **\n        outputs = model.distribute_strategy.run(run_step, args=(data,))\n    C:\\ProgramData\\anaconda3\\envs\\Tensorflow_GPU_0\\lib\\site-packages\\tensorflow\\python\\distribute\\distribute_lib.py:1285 run\n        return self._extended.call_for_each_replica(fn, args=args, kwargs=kwargs)\n    C:\\ProgramData\\anaconda3\\envs\\Tensorflow_GPU_0\\lib\\site-packages\\tensorflow\\python\\distribute\\distribute_lib.py:2833 call_for_each_replica\n        return self._call_for_each_replica(fn, args, kwargs)\n    C:\\ProgramData\\anaconda3\\envs\\Tensorflow_GPU_0\\lib\\site-packages\\tensorflow\\python\\distribute\\distribute_lib.py:3608 _call_for_each_replica\n        return fn(*args, **kwargs)\n    C:\\ProgramData\\anaconda3\\envs\\Tensorflow_GPU_0\\lib\\site-packages\\tensorflow\\python\\keras\\engine\\training.py:838 run_step  **\n        outputs = model.train_step(data)\n    C:\\ProgramData\\anaconda3\\envs\\Tensorflow_GPU_0\\lib\\site-packages\\tensorflow\\python\\keras\\engine\\training.py:795 train_step\n        y_pred = self(x, training=True)\n    C:\\ProgramData\\anaconda3\\envs\\Tensorflow_GPU_0\\lib\\site-packages\\tensorflow\\python\\keras\\engine\\base_layer.py:1030 __call__\n        outputs = call_fn(inputs, *args, **kwargs)\n    C:\\ProgramData\\anaconda3\\envs\\Tensorflow_GPU_0\\lib\\site-packages\\tensorflow\\python\\keras\\engine\\sequential.py:394 call\n        outputs = layer(inputs, **kwargs)\n    C:\\ProgramData\\anaconda3\\envs\\Tensorflow_GPU_0\\lib\\site-packages\\tensorflow\\python\\keras\\layers\\recurrent.py:668 __call__\n        return super(RNN, self).__call__(inputs, **kwargs)\n    C:\\ProgramData\\anaconda3\\envs\\Tensorflow_GPU_0\\lib\\site-packages\\tensorflow\\python\\keras\\engine\\base_layer.py:1030 __call__\n        outputs = call_fn(inputs, *args, **kwargs)\n    C:\\ProgramData\\anaconda3\\envs\\Tensorflow_GPU_0\\lib\\site-packages\\tensorflow\\python\\keras\\layers\\recurrent_v2.py:1153 call\n        inputs, initial_state, _ = self._process_inputs(inputs, initial_state, None)\n    C:\\ProgramData\\anaconda3\\envs\\Tensorflow_GPU_0\\lib\\site-packages\\tensorflow\\python\\keras\\layers\\recurrent.py:868 _process_inputs\n        initial_state = self.get_initial_state(inputs)\n    C:\\ProgramData\\anaconda3\\envs\\Tensorflow_GPU_0\\lib\\site-packages\\tensorflow\\python\\keras\\layers\\recurrent.py:651 get_initial_state\n        inputs=None, batch_size=batch_size, dtype=dtype)\n    C:\\ProgramData\\anaconda3\\envs\\Tensorflow_GPU_0\\lib\\site-packages\\tensorflow\\python\\keras\\layers\\recurrent.py:2517 get_initial_state\n        self, inputs, batch_size, dtype))\n    C:\\ProgramData\\anaconda3\\envs\\Tensorflow_GPU_0\\lib\\site-packages\\tensorflow\\python\\keras\\layers\\recurrent.py:2998 _generate_zero_filled_state_for_cell\n        return _generate_zero_filled_state(batch_size, cell.state_size, dtype)\n    C:\\ProgramData\\anaconda3\\envs\\Tensorflow_GPU_0\\lib\\site-packages\\tensorflow\\python\\keras\\layers\\recurrent.py:3014 _generate_zero_filled_state\n        return nest.map_structure(create_zeros, state_size)\n    C:\\ProgramData\\anaconda3\\envs\\Tensorflow_GPU_0\\lib\\site-packages\\tensorflow\\python\\util\\nest.py:867 map_structure\n        structure[0], [func(*x) for x in entries],\n    C:\\ProgramData\\anaconda3\\envs\\Tensorflow_GPU_0\\lib\\site-packages\\tensorflow\\python\\util\\nest.py:867 <listcomp>\n        structure[0], [func(*x) for x in entries],\n    C:\\ProgramData\\anaconda3\\envs\\Tensorflow_GPU_0\\lib\\site-packages\\tensorflow\\python\\keras\\layers\\recurrent.py:3011 create_zeros\n        return array_ops.zeros(init_state_size, dtype=dtype)\n    C:\\ProgramData\\anaconda3\\envs\\Tensorflow_GPU_0\\lib\\site-packages\\tensorflow\\python\\util\\dispatch.py:206 wrapper\n        return target(*args, **kwargs)\n    C:\\ProgramData\\anaconda3\\envs\\Tensorflow_GPU_0\\lib\\site-packages\\tensorflow\\python\\ops\\array_ops.py:2911 wrapped\n        tensor = fun(*args, **kwargs)\n    C:\\ProgramData\\anaconda3\\envs\\Tensorflow_GPU_0\\lib\\site-packages\\tensorflow\\python\\ops\\array_ops.py:2960 zeros\n        output = _constant_if_small(zero, shape, dtype, name)\n    C:\\ProgramData\\anaconda3\\envs\\Tensorflow_GPU_0\\lib\\site-packages\\tensorflow\\python\\ops\\array_ops.py:2896 _constant_if_small\n        if np.prod(shape) < 1000:\n    <__array_function__ internals>:6 prod\n        \n    C:\\Users\\gacece\\AppData\\Roaming\\Python\\Python37\\site-packages\\numpy\\core\\fromnumeric.py:3052 prod\n        keepdims=keepdims, initial=initial, where=where)\n    C:\\Users\\gacece\\AppData\\Roaming\\Python\\Python37\\site-packages\\numpy\\core\\fromnumeric.py:86 _wrapreduction\n        return ufunc.reduce(obj, axis, dtype, out, **passkwargs)\n    C:\\ProgramData\\anaconda3\\envs\\Tensorflow_GPU_0\\lib\\site-packages\\tensorflow\\python\\framework\\ops.py:870 __array__\n        \" a NumPy call, which is not supported\".format(self.name))\n\n    NotImplementedError: Cannot convert a symbolic Tensor (sequential_2/lstm_1/strided_slice:0) to a numpy array. This error may indicate that you're trying to pass a Tensor to a NumPy call, which is not supported\n",
     "output_type": "error",
     "traceback": [
      "\u001b[1;31m---------------------------------------------------------------------------\u001b[0m",
      "\u001b[1;31mNotImplementedError\u001b[0m                       Traceback (most recent call last)",
      "\u001b[1;32m~\\AppData\\Local\\Temp\\ipykernel_30712\\556197325.py\u001b[0m in \u001b[0;36m<module>\u001b[1;34m\u001b[0m\n\u001b[1;32m----> 1\u001b[1;33m \u001b[0mmodel\u001b[0m\u001b[1;33m.\u001b[0m\u001b[0mfit\u001b[0m\u001b[1;33m(\u001b[0m\u001b[0mX_train\u001b[0m\u001b[1;33m,\u001b[0m\u001b[0mepochs\u001b[0m\u001b[1;33m=\u001b[0m\u001b[1;36m10\u001b[0m\u001b[1;33m,\u001b[0m\u001b[0mbatch_size\u001b[0m\u001b[1;33m=\u001b[0m\u001b[1;36m20\u001b[0m\u001b[1;33m)\u001b[0m\u001b[1;33m\u001b[0m\u001b[1;33m\u001b[0m\u001b[0m\n\u001b[0m",
      "\u001b[1;32mC:\\ProgramData\\anaconda3\\envs\\Tensorflow_GPU_0\\lib\\site-packages\\tensorflow\\python\\keras\\engine\\training.py\u001b[0m in \u001b[0;36mfit\u001b[1;34m(self, x, y, batch_size, epochs, verbose, callbacks, validation_split, validation_data, shuffle, class_weight, sample_weight, initial_epoch, steps_per_epoch, validation_steps, validation_batch_size, validation_freq, max_queue_size, workers, use_multiprocessing)\u001b[0m\n\u001b[0;32m   1181\u001b[0m                 _r=1):\n\u001b[0;32m   1182\u001b[0m               \u001b[0mcallbacks\u001b[0m\u001b[1;33m.\u001b[0m\u001b[0mon_train_batch_begin\u001b[0m\u001b[1;33m(\u001b[0m\u001b[0mstep\u001b[0m\u001b[1;33m)\u001b[0m\u001b[1;33m\u001b[0m\u001b[1;33m\u001b[0m\u001b[0m\n\u001b[1;32m-> 1183\u001b[1;33m               \u001b[0mtmp_logs\u001b[0m \u001b[1;33m=\u001b[0m \u001b[0mself\u001b[0m\u001b[1;33m.\u001b[0m\u001b[0mtrain_function\u001b[0m\u001b[1;33m(\u001b[0m\u001b[0miterator\u001b[0m\u001b[1;33m)\u001b[0m\u001b[1;33m\u001b[0m\u001b[1;33m\u001b[0m\u001b[0m\n\u001b[0m\u001b[0;32m   1184\u001b[0m               \u001b[1;32mif\u001b[0m \u001b[0mdata_handler\u001b[0m\u001b[1;33m.\u001b[0m\u001b[0mshould_sync\u001b[0m\u001b[1;33m:\u001b[0m\u001b[1;33m\u001b[0m\u001b[1;33m\u001b[0m\u001b[0m\n\u001b[0;32m   1185\u001b[0m                 \u001b[0mcontext\u001b[0m\u001b[1;33m.\u001b[0m\u001b[0masync_wait\u001b[0m\u001b[1;33m(\u001b[0m\u001b[1;33m)\u001b[0m\u001b[1;33m\u001b[0m\u001b[1;33m\u001b[0m\u001b[0m\n",
      "\u001b[1;32mC:\\ProgramData\\anaconda3\\envs\\Tensorflow_GPU_0\\lib\\site-packages\\tensorflow\\python\\eager\\def_function.py\u001b[0m in \u001b[0;36m__call__\u001b[1;34m(self, *args, **kwds)\u001b[0m\n\u001b[0;32m    887\u001b[0m \u001b[1;33m\u001b[0m\u001b[0m\n\u001b[0;32m    888\u001b[0m       \u001b[1;32mwith\u001b[0m \u001b[0mOptionalXlaContext\u001b[0m\u001b[1;33m(\u001b[0m\u001b[0mself\u001b[0m\u001b[1;33m.\u001b[0m\u001b[0m_jit_compile\u001b[0m\u001b[1;33m)\u001b[0m\u001b[1;33m:\u001b[0m\u001b[1;33m\u001b[0m\u001b[1;33m\u001b[0m\u001b[0m\n\u001b[1;32m--> 889\u001b[1;33m         \u001b[0mresult\u001b[0m \u001b[1;33m=\u001b[0m \u001b[0mself\u001b[0m\u001b[1;33m.\u001b[0m\u001b[0m_call\u001b[0m\u001b[1;33m(\u001b[0m\u001b[1;33m*\u001b[0m\u001b[0margs\u001b[0m\u001b[1;33m,\u001b[0m \u001b[1;33m**\u001b[0m\u001b[0mkwds\u001b[0m\u001b[1;33m)\u001b[0m\u001b[1;33m\u001b[0m\u001b[1;33m\u001b[0m\u001b[0m\n\u001b[0m\u001b[0;32m    890\u001b[0m \u001b[1;33m\u001b[0m\u001b[0m\n\u001b[0;32m    891\u001b[0m       \u001b[0mnew_tracing_count\u001b[0m \u001b[1;33m=\u001b[0m \u001b[0mself\u001b[0m\u001b[1;33m.\u001b[0m\u001b[0mexperimental_get_tracing_count\u001b[0m\u001b[1;33m(\u001b[0m\u001b[1;33m)\u001b[0m\u001b[1;33m\u001b[0m\u001b[1;33m\u001b[0m\u001b[0m\n",
      "\u001b[1;32mC:\\ProgramData\\anaconda3\\envs\\Tensorflow_GPU_0\\lib\\site-packages\\tensorflow\\python\\eager\\def_function.py\u001b[0m in \u001b[0;36m_call\u001b[1;34m(self, *args, **kwds)\u001b[0m\n\u001b[0;32m    931\u001b[0m       \u001b[1;31m# This is the first call of __call__, so we have to initialize.\u001b[0m\u001b[1;33m\u001b[0m\u001b[1;33m\u001b[0m\u001b[1;33m\u001b[0m\u001b[0m\n\u001b[0;32m    932\u001b[0m       \u001b[0minitializers\u001b[0m \u001b[1;33m=\u001b[0m \u001b[1;33m[\u001b[0m\u001b[1;33m]\u001b[0m\u001b[1;33m\u001b[0m\u001b[1;33m\u001b[0m\u001b[0m\n\u001b[1;32m--> 933\u001b[1;33m       \u001b[0mself\u001b[0m\u001b[1;33m.\u001b[0m\u001b[0m_initialize\u001b[0m\u001b[1;33m(\u001b[0m\u001b[0margs\u001b[0m\u001b[1;33m,\u001b[0m \u001b[0mkwds\u001b[0m\u001b[1;33m,\u001b[0m \u001b[0madd_initializers_to\u001b[0m\u001b[1;33m=\u001b[0m\u001b[0minitializers\u001b[0m\u001b[1;33m)\u001b[0m\u001b[1;33m\u001b[0m\u001b[1;33m\u001b[0m\u001b[0m\n\u001b[0m\u001b[0;32m    934\u001b[0m     \u001b[1;32mfinally\u001b[0m\u001b[1;33m:\u001b[0m\u001b[1;33m\u001b[0m\u001b[1;33m\u001b[0m\u001b[0m\n\u001b[0;32m    935\u001b[0m       \u001b[1;31m# At this point we know that the initialization is complete (or less\u001b[0m\u001b[1;33m\u001b[0m\u001b[1;33m\u001b[0m\u001b[1;33m\u001b[0m\u001b[0m\n",
      "\u001b[1;32mC:\\ProgramData\\anaconda3\\envs\\Tensorflow_GPU_0\\lib\\site-packages\\tensorflow\\python\\eager\\def_function.py\u001b[0m in \u001b[0;36m_initialize\u001b[1;34m(self, args, kwds, add_initializers_to)\u001b[0m\n\u001b[0;32m    762\u001b[0m     self._concrete_stateful_fn = (\n\u001b[0;32m    763\u001b[0m         self._stateful_fn._get_concrete_function_internal_garbage_collected(  # pylint: disable=protected-access\n\u001b[1;32m--> 764\u001b[1;33m             *args, **kwds))\n\u001b[0m\u001b[0;32m    765\u001b[0m \u001b[1;33m\u001b[0m\u001b[0m\n\u001b[0;32m    766\u001b[0m     \u001b[1;32mdef\u001b[0m \u001b[0minvalid_creator_scope\u001b[0m\u001b[1;33m(\u001b[0m\u001b[1;33m*\u001b[0m\u001b[0munused_args\u001b[0m\u001b[1;33m,\u001b[0m \u001b[1;33m**\u001b[0m\u001b[0munused_kwds\u001b[0m\u001b[1;33m)\u001b[0m\u001b[1;33m:\u001b[0m\u001b[1;33m\u001b[0m\u001b[1;33m\u001b[0m\u001b[0m\n",
      "\u001b[1;32mC:\\ProgramData\\anaconda3\\envs\\Tensorflow_GPU_0\\lib\\site-packages\\tensorflow\\python\\eager\\function.py\u001b[0m in \u001b[0;36m_get_concrete_function_internal_garbage_collected\u001b[1;34m(self, *args, **kwargs)\u001b[0m\n\u001b[0;32m   3048\u001b[0m       \u001b[0margs\u001b[0m\u001b[1;33m,\u001b[0m \u001b[0mkwargs\u001b[0m \u001b[1;33m=\u001b[0m \u001b[1;32mNone\u001b[0m\u001b[1;33m,\u001b[0m \u001b[1;32mNone\u001b[0m\u001b[1;33m\u001b[0m\u001b[1;33m\u001b[0m\u001b[0m\n\u001b[0;32m   3049\u001b[0m     \u001b[1;32mwith\u001b[0m \u001b[0mself\u001b[0m\u001b[1;33m.\u001b[0m\u001b[0m_lock\u001b[0m\u001b[1;33m:\u001b[0m\u001b[1;33m\u001b[0m\u001b[1;33m\u001b[0m\u001b[0m\n\u001b[1;32m-> 3050\u001b[1;33m       \u001b[0mgraph_function\u001b[0m\u001b[1;33m,\u001b[0m \u001b[0m_\u001b[0m \u001b[1;33m=\u001b[0m \u001b[0mself\u001b[0m\u001b[1;33m.\u001b[0m\u001b[0m_maybe_define_function\u001b[0m\u001b[1;33m(\u001b[0m\u001b[0margs\u001b[0m\u001b[1;33m,\u001b[0m \u001b[0mkwargs\u001b[0m\u001b[1;33m)\u001b[0m\u001b[1;33m\u001b[0m\u001b[1;33m\u001b[0m\u001b[0m\n\u001b[0m\u001b[0;32m   3051\u001b[0m     \u001b[1;32mreturn\u001b[0m \u001b[0mgraph_function\u001b[0m\u001b[1;33m\u001b[0m\u001b[1;33m\u001b[0m\u001b[0m\n\u001b[0;32m   3052\u001b[0m \u001b[1;33m\u001b[0m\u001b[0m\n",
      "\u001b[1;32mC:\\ProgramData\\anaconda3\\envs\\Tensorflow_GPU_0\\lib\\site-packages\\tensorflow\\python\\eager\\function.py\u001b[0m in \u001b[0;36m_maybe_define_function\u001b[1;34m(self, args, kwargs)\u001b[0m\n\u001b[0;32m   3442\u001b[0m \u001b[1;33m\u001b[0m\u001b[0m\n\u001b[0;32m   3443\u001b[0m           \u001b[0mself\u001b[0m\u001b[1;33m.\u001b[0m\u001b[0m_function_cache\u001b[0m\u001b[1;33m.\u001b[0m\u001b[0mmissed\u001b[0m\u001b[1;33m.\u001b[0m\u001b[0madd\u001b[0m\u001b[1;33m(\u001b[0m\u001b[0mcall_context_key\u001b[0m\u001b[1;33m)\u001b[0m\u001b[1;33m\u001b[0m\u001b[1;33m\u001b[0m\u001b[0m\n\u001b[1;32m-> 3444\u001b[1;33m           \u001b[0mgraph_function\u001b[0m \u001b[1;33m=\u001b[0m \u001b[0mself\u001b[0m\u001b[1;33m.\u001b[0m\u001b[0m_create_graph_function\u001b[0m\u001b[1;33m(\u001b[0m\u001b[0margs\u001b[0m\u001b[1;33m,\u001b[0m \u001b[0mkwargs\u001b[0m\u001b[1;33m)\u001b[0m\u001b[1;33m\u001b[0m\u001b[1;33m\u001b[0m\u001b[0m\n\u001b[0m\u001b[0;32m   3445\u001b[0m           \u001b[0mself\u001b[0m\u001b[1;33m.\u001b[0m\u001b[0m_function_cache\u001b[0m\u001b[1;33m.\u001b[0m\u001b[0mprimary\u001b[0m\u001b[1;33m[\u001b[0m\u001b[0mcache_key\u001b[0m\u001b[1;33m]\u001b[0m \u001b[1;33m=\u001b[0m \u001b[0mgraph_function\u001b[0m\u001b[1;33m\u001b[0m\u001b[1;33m\u001b[0m\u001b[0m\n\u001b[0;32m   3446\u001b[0m \u001b[1;33m\u001b[0m\u001b[0m\n",
      "\u001b[1;32mC:\\ProgramData\\anaconda3\\envs\\Tensorflow_GPU_0\\lib\\site-packages\\tensorflow\\python\\eager\\function.py\u001b[0m in \u001b[0;36m_create_graph_function\u001b[1;34m(self, args, kwargs, override_flat_arg_shapes)\u001b[0m\n\u001b[0;32m   3287\u001b[0m             \u001b[0marg_names\u001b[0m\u001b[1;33m=\u001b[0m\u001b[0marg_names\u001b[0m\u001b[1;33m,\u001b[0m\u001b[1;33m\u001b[0m\u001b[1;33m\u001b[0m\u001b[0m\n\u001b[0;32m   3288\u001b[0m             \u001b[0moverride_flat_arg_shapes\u001b[0m\u001b[1;33m=\u001b[0m\u001b[0moverride_flat_arg_shapes\u001b[0m\u001b[1;33m,\u001b[0m\u001b[1;33m\u001b[0m\u001b[1;33m\u001b[0m\u001b[0m\n\u001b[1;32m-> 3289\u001b[1;33m             capture_by_value=self._capture_by_value),\n\u001b[0m\u001b[0;32m   3290\u001b[0m         \u001b[0mself\u001b[0m\u001b[1;33m.\u001b[0m\u001b[0m_function_attributes\u001b[0m\u001b[1;33m,\u001b[0m\u001b[1;33m\u001b[0m\u001b[1;33m\u001b[0m\u001b[0m\n\u001b[0;32m   3291\u001b[0m         \u001b[0mfunction_spec\u001b[0m\u001b[1;33m=\u001b[0m\u001b[0mself\u001b[0m\u001b[1;33m.\u001b[0m\u001b[0mfunction_spec\u001b[0m\u001b[1;33m,\u001b[0m\u001b[1;33m\u001b[0m\u001b[1;33m\u001b[0m\u001b[0m\n",
      "\u001b[1;32mC:\\ProgramData\\anaconda3\\envs\\Tensorflow_GPU_0\\lib\\site-packages\\tensorflow\\python\\framework\\func_graph.py\u001b[0m in \u001b[0;36mfunc_graph_from_py_func\u001b[1;34m(name, python_func, args, kwargs, signature, func_graph, autograph, autograph_options, add_control_dependencies, arg_names, op_return_value, collections, capture_by_value, override_flat_arg_shapes)\u001b[0m\n\u001b[0;32m    997\u001b[0m         \u001b[0m_\u001b[0m\u001b[1;33m,\u001b[0m \u001b[0moriginal_func\u001b[0m \u001b[1;33m=\u001b[0m \u001b[0mtf_decorator\u001b[0m\u001b[1;33m.\u001b[0m\u001b[0munwrap\u001b[0m\u001b[1;33m(\u001b[0m\u001b[0mpython_func\u001b[0m\u001b[1;33m)\u001b[0m\u001b[1;33m\u001b[0m\u001b[1;33m\u001b[0m\u001b[0m\n\u001b[0;32m    998\u001b[0m \u001b[1;33m\u001b[0m\u001b[0m\n\u001b[1;32m--> 999\u001b[1;33m       \u001b[0mfunc_outputs\u001b[0m \u001b[1;33m=\u001b[0m \u001b[0mpython_func\u001b[0m\u001b[1;33m(\u001b[0m\u001b[1;33m*\u001b[0m\u001b[0mfunc_args\u001b[0m\u001b[1;33m,\u001b[0m \u001b[1;33m**\u001b[0m\u001b[0mfunc_kwargs\u001b[0m\u001b[1;33m)\u001b[0m\u001b[1;33m\u001b[0m\u001b[1;33m\u001b[0m\u001b[0m\n\u001b[0m\u001b[0;32m   1000\u001b[0m \u001b[1;33m\u001b[0m\u001b[0m\n\u001b[0;32m   1001\u001b[0m       \u001b[1;31m# invariant: `func_outputs` contains only Tensors, CompositeTensors,\u001b[0m\u001b[1;33m\u001b[0m\u001b[1;33m\u001b[0m\u001b[1;33m\u001b[0m\u001b[0m\n",
      "\u001b[1;32mC:\\ProgramData\\anaconda3\\envs\\Tensorflow_GPU_0\\lib\\site-packages\\tensorflow\\python\\eager\\def_function.py\u001b[0m in \u001b[0;36mwrapped_fn\u001b[1;34m(*args, **kwds)\u001b[0m\n\u001b[0;32m    670\u001b[0m         \u001b[1;31m# the function a weak reference to itself to avoid a reference cycle.\u001b[0m\u001b[1;33m\u001b[0m\u001b[1;33m\u001b[0m\u001b[1;33m\u001b[0m\u001b[0m\n\u001b[0;32m    671\u001b[0m         \u001b[1;32mwith\u001b[0m \u001b[0mOptionalXlaContext\u001b[0m\u001b[1;33m(\u001b[0m\u001b[0mcompile_with_xla\u001b[0m\u001b[1;33m)\u001b[0m\u001b[1;33m:\u001b[0m\u001b[1;33m\u001b[0m\u001b[1;33m\u001b[0m\u001b[0m\n\u001b[1;32m--> 672\u001b[1;33m           \u001b[0mout\u001b[0m \u001b[1;33m=\u001b[0m \u001b[0mweak_wrapped_fn\u001b[0m\u001b[1;33m(\u001b[0m\u001b[1;33m)\u001b[0m\u001b[1;33m.\u001b[0m\u001b[0m__wrapped__\u001b[0m\u001b[1;33m(\u001b[0m\u001b[1;33m*\u001b[0m\u001b[0margs\u001b[0m\u001b[1;33m,\u001b[0m \u001b[1;33m**\u001b[0m\u001b[0mkwds\u001b[0m\u001b[1;33m)\u001b[0m\u001b[1;33m\u001b[0m\u001b[1;33m\u001b[0m\u001b[0m\n\u001b[0m\u001b[0;32m    673\u001b[0m         \u001b[1;32mreturn\u001b[0m \u001b[0mout\u001b[0m\u001b[1;33m\u001b[0m\u001b[1;33m\u001b[0m\u001b[0m\n\u001b[0;32m    674\u001b[0m \u001b[1;33m\u001b[0m\u001b[0m\n",
      "\u001b[1;32mC:\\ProgramData\\anaconda3\\envs\\Tensorflow_GPU_0\\lib\\site-packages\\tensorflow\\python\\framework\\func_graph.py\u001b[0m in \u001b[0;36mwrapper\u001b[1;34m(*args, **kwargs)\u001b[0m\n\u001b[0;32m    984\u001b[0m           \u001b[1;32mexcept\u001b[0m \u001b[0mException\u001b[0m \u001b[1;32mas\u001b[0m \u001b[0me\u001b[0m\u001b[1;33m:\u001b[0m  \u001b[1;31m# pylint:disable=broad-except\u001b[0m\u001b[1;33m\u001b[0m\u001b[1;33m\u001b[0m\u001b[0m\n\u001b[0;32m    985\u001b[0m             \u001b[1;32mif\u001b[0m \u001b[0mhasattr\u001b[0m\u001b[1;33m(\u001b[0m\u001b[0me\u001b[0m\u001b[1;33m,\u001b[0m \u001b[1;34m\"ag_error_metadata\"\u001b[0m\u001b[1;33m)\u001b[0m\u001b[1;33m:\u001b[0m\u001b[1;33m\u001b[0m\u001b[1;33m\u001b[0m\u001b[0m\n\u001b[1;32m--> 986\u001b[1;33m               \u001b[1;32mraise\u001b[0m \u001b[0me\u001b[0m\u001b[1;33m.\u001b[0m\u001b[0mag_error_metadata\u001b[0m\u001b[1;33m.\u001b[0m\u001b[0mto_exception\u001b[0m\u001b[1;33m(\u001b[0m\u001b[0me\u001b[0m\u001b[1;33m)\u001b[0m\u001b[1;33m\u001b[0m\u001b[1;33m\u001b[0m\u001b[0m\n\u001b[0m\u001b[0;32m    987\u001b[0m             \u001b[1;32melse\u001b[0m\u001b[1;33m:\u001b[0m\u001b[1;33m\u001b[0m\u001b[1;33m\u001b[0m\u001b[0m\n\u001b[0;32m    988\u001b[0m               \u001b[1;32mraise\u001b[0m\u001b[1;33m\u001b[0m\u001b[1;33m\u001b[0m\u001b[0m\n",
      "\u001b[1;31mNotImplementedError\u001b[0m: in user code:\n\n    C:\\ProgramData\\anaconda3\\envs\\Tensorflow_GPU_0\\lib\\site-packages\\tensorflow\\python\\keras\\engine\\training.py:855 train_function  *\n        return step_function(self, iterator)\n    C:\\ProgramData\\anaconda3\\envs\\Tensorflow_GPU_0\\lib\\site-packages\\tensorflow\\python\\keras\\engine\\training.py:845 step_function  **\n        outputs = model.distribute_strategy.run(run_step, args=(data,))\n    C:\\ProgramData\\anaconda3\\envs\\Tensorflow_GPU_0\\lib\\site-packages\\tensorflow\\python\\distribute\\distribute_lib.py:1285 run\n        return self._extended.call_for_each_replica(fn, args=args, kwargs=kwargs)\n    C:\\ProgramData\\anaconda3\\envs\\Tensorflow_GPU_0\\lib\\site-packages\\tensorflow\\python\\distribute\\distribute_lib.py:2833 call_for_each_replica\n        return self._call_for_each_replica(fn, args, kwargs)\n    C:\\ProgramData\\anaconda3\\envs\\Tensorflow_GPU_0\\lib\\site-packages\\tensorflow\\python\\distribute\\distribute_lib.py:3608 _call_for_each_replica\n        return fn(*args, **kwargs)\n    C:\\ProgramData\\anaconda3\\envs\\Tensorflow_GPU_0\\lib\\site-packages\\tensorflow\\python\\keras\\engine\\training.py:838 run_step  **\n        outputs = model.train_step(data)\n    C:\\ProgramData\\anaconda3\\envs\\Tensorflow_GPU_0\\lib\\site-packages\\tensorflow\\python\\keras\\engine\\training.py:795 train_step\n        y_pred = self(x, training=True)\n    C:\\ProgramData\\anaconda3\\envs\\Tensorflow_GPU_0\\lib\\site-packages\\tensorflow\\python\\keras\\engine\\base_layer.py:1030 __call__\n        outputs = call_fn(inputs, *args, **kwargs)\n    C:\\ProgramData\\anaconda3\\envs\\Tensorflow_GPU_0\\lib\\site-packages\\tensorflow\\python\\keras\\engine\\sequential.py:394 call\n        outputs = layer(inputs, **kwargs)\n    C:\\ProgramData\\anaconda3\\envs\\Tensorflow_GPU_0\\lib\\site-packages\\tensorflow\\python\\keras\\layers\\recurrent.py:668 __call__\n        return super(RNN, self).__call__(inputs, **kwargs)\n    C:\\ProgramData\\anaconda3\\envs\\Tensorflow_GPU_0\\lib\\site-packages\\tensorflow\\python\\keras\\engine\\base_layer.py:1030 __call__\n        outputs = call_fn(inputs, *args, **kwargs)\n    C:\\ProgramData\\anaconda3\\envs\\Tensorflow_GPU_0\\lib\\site-packages\\tensorflow\\python\\keras\\layers\\recurrent_v2.py:1153 call\n        inputs, initial_state, _ = self._process_inputs(inputs, initial_state, None)\n    C:\\ProgramData\\anaconda3\\envs\\Tensorflow_GPU_0\\lib\\site-packages\\tensorflow\\python\\keras\\layers\\recurrent.py:868 _process_inputs\n        initial_state = self.get_initial_state(inputs)\n    C:\\ProgramData\\anaconda3\\envs\\Tensorflow_GPU_0\\lib\\site-packages\\tensorflow\\python\\keras\\layers\\recurrent.py:651 get_initial_state\n        inputs=None, batch_size=batch_size, dtype=dtype)\n    C:\\ProgramData\\anaconda3\\envs\\Tensorflow_GPU_0\\lib\\site-packages\\tensorflow\\python\\keras\\layers\\recurrent.py:2517 get_initial_state\n        self, inputs, batch_size, dtype))\n    C:\\ProgramData\\anaconda3\\envs\\Tensorflow_GPU_0\\lib\\site-packages\\tensorflow\\python\\keras\\layers\\recurrent.py:2998 _generate_zero_filled_state_for_cell\n        return _generate_zero_filled_state(batch_size, cell.state_size, dtype)\n    C:\\ProgramData\\anaconda3\\envs\\Tensorflow_GPU_0\\lib\\site-packages\\tensorflow\\python\\keras\\layers\\recurrent.py:3014 _generate_zero_filled_state\n        return nest.map_structure(create_zeros, state_size)\n    C:\\ProgramData\\anaconda3\\envs\\Tensorflow_GPU_0\\lib\\site-packages\\tensorflow\\python\\util\\nest.py:867 map_structure\n        structure[0], [func(*x) for x in entries],\n    C:\\ProgramData\\anaconda3\\envs\\Tensorflow_GPU_0\\lib\\site-packages\\tensorflow\\python\\util\\nest.py:867 <listcomp>\n        structure[0], [func(*x) for x in entries],\n    C:\\ProgramData\\anaconda3\\envs\\Tensorflow_GPU_0\\lib\\site-packages\\tensorflow\\python\\keras\\layers\\recurrent.py:3011 create_zeros\n        return array_ops.zeros(init_state_size, dtype=dtype)\n    C:\\ProgramData\\anaconda3\\envs\\Tensorflow_GPU_0\\lib\\site-packages\\tensorflow\\python\\util\\dispatch.py:206 wrapper\n        return target(*args, **kwargs)\n    C:\\ProgramData\\anaconda3\\envs\\Tensorflow_GPU_0\\lib\\site-packages\\tensorflow\\python\\ops\\array_ops.py:2911 wrapped\n        tensor = fun(*args, **kwargs)\n    C:\\ProgramData\\anaconda3\\envs\\Tensorflow_GPU_0\\lib\\site-packages\\tensorflow\\python\\ops\\array_ops.py:2960 zeros\n        output = _constant_if_small(zero, shape, dtype, name)\n    C:\\ProgramData\\anaconda3\\envs\\Tensorflow_GPU_0\\lib\\site-packages\\tensorflow\\python\\ops\\array_ops.py:2896 _constant_if_small\n        if np.prod(shape) < 1000:\n    <__array_function__ internals>:6 prod\n        \n    C:\\Users\\gacece\\AppData\\Roaming\\Python\\Python37\\site-packages\\numpy\\core\\fromnumeric.py:3052 prod\n        keepdims=keepdims, initial=initial, where=where)\n    C:\\Users\\gacece\\AppData\\Roaming\\Python\\Python37\\site-packages\\numpy\\core\\fromnumeric.py:86 _wrapreduction\n        return ufunc.reduce(obj, axis, dtype, out, **passkwargs)\n    C:\\ProgramData\\anaconda3\\envs\\Tensorflow_GPU_0\\lib\\site-packages\\tensorflow\\python\\framework\\ops.py:870 __array__\n        \" a NumPy call, which is not supported\".format(self.name))\n\n    NotImplementedError: Cannot convert a symbolic Tensor (sequential_2/lstm_1/strided_slice:0) to a numpy array. This error may indicate that you're trying to pass a Tensor to a NumPy call, which is not supported\n"
     ]
    }
   ],
   "source": [
    "model.fit(X_train,epochs=10,batch_size=20)"
   ]
  },
  {
   "cell_type": "code",
   "execution_count": null,
   "id": "a5d51109",
   "metadata": {},
   "outputs": [],
   "source": []
  }
 ],
 "metadata": {
  "kernelspec": {
   "display_name": "Python 3 (ipykernel)",
   "language": "python",
   "name": "python3"
  },
  "language_info": {
   "codemirror_mode": {
    "name": "ipython",
    "version": 3
   },
   "file_extension": ".py",
   "mimetype": "text/x-python",
   "name": "python",
   "nbconvert_exporter": "python",
   "pygments_lexer": "ipython3",
   "version": "3.7.16"
  }
 },
 "nbformat": 4,
 "nbformat_minor": 5
}
