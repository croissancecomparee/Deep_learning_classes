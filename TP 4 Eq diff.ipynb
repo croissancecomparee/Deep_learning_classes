{
 "cells": [
  {
   "cell_type": "code",
   "execution_count": null,
   "id": "4b8dfd6b",
   "metadata": {},
   "outputs": [],
   "source": [
    "import numpy as np\n",
    "import tensorflow as tf \n",
    "from tensorflow.keras.models import Model\n",
    "from tensorflow.keras.layers import Dense\n",
    "from tensorflow.keras import Input\n",
    "from tensorflow.keras.layers import concatenate\n",
    "import matplotlib.pyplot as plt\n",
    "from tensorflow.keras.utils import plot_model\n",
    "from tensorflow import keras\n",
    "from tensorflow.keras import layers"
   ]
  },
  {
   "cell_type": "code",
   "execution_count": null,
   "id": "d36ab725",
   "metadata": {},
   "outputs": [],
   "source": [
    "N = 36\n",
    "X_train = np.linspace(0.0,1.0,N)\n"
   ]
  },
  {
   "cell_type": "code",
   "execution_count": null,
   "id": "36196575",
   "metadata": {},
   "outputs": [],
   "source": [
    "X_train = X_train.reshape([-1,1])\n",
    "X_train = tf.Variable(X_train)"
   ]
  },
  {
   "cell_type": "code",
   "execution_count": null,
   "id": "31569feb",
   "metadata": {},
   "outputs": [],
   "source": [
    "# Define Sequential model with 3 layers\n",
    "model_1 = keras.Sequential(\n",
    "    [\n",
    "        layers.Dense(32, input_dim = 1,activation=\"tanh\", name=\"layer1\"),\n",
    "        layers.Dense(16, activation=\"tanh\", name=\"layer2\"),\n",
    "        layers.Dense(1, name=\"layer3\"),\n",
    "    ]\n",
    ")"
   ]
  },
  {
   "cell_type": "code",
   "execution_count": null,
   "id": "511062ac",
   "metadata": {},
   "outputs": [],
   "source": [
    "optimizer = tf.keras.optimizers.Adam(learning_rate=0.001)\n",
    "\n",
    "def train_step():\n",
    "    with tf.GradientTape(persistent=True) as tape:\n",
    "        X_train_1 = tf.cast(X_train, tf.float32)  # Ensure X_train is float32\n",
    "        y = model_1(X_train_1)\n",
    "        model_prime = tape.gradient(y, X_train_1)\n",
    "        loss = tf.reduce_mean(tf.square(model_prime - y)) + (y[0]-1)**2\n",
    "        grad = tape.gradient(loss, model_1.trainable_variables)\n",
    "        optimizer.apply_gradients(zip(grad, model_1.trainable_variables))\n",
    "    \n",
    "    return loss"
   ]
  },
  {
   "cell_type": "code",
   "execution_count": null,
   "id": "810f13b7",
   "metadata": {},
   "outputs": [],
   "source": [
    "losses = []\n",
    "for i in range(5000):\n",
    "    loss = train_step()\n",
    "    losses.append(loss)\n",
    "    print(\"loss\", loss.numpy())"
   ]
  },
  {
   "cell_type": "code",
   "execution_count": null,
   "id": "7ff279c1",
   "metadata": {},
   "outputs": [],
   "source": [
    "plt.plot(losses)"
   ]
  },
  {
   "cell_type": "code",
   "execution_count": null,
   "id": "e2b3a097",
   "metadata": {},
   "outputs": [],
   "source": [
    "X_val = np.linspace(0.0,1.0,200)\n",
    "X_val = X_val.reshape([-1,1])\n",
    "#X_val = tf.Variable(X_val)"
   ]
  },
  {
   "cell_type": "code",
   "execution_count": null,
   "id": "fa293a3f",
   "metadata": {},
   "outputs": [],
   "source": [
    "predicted_values = model_1(X_val)"
   ]
  },
  {
   "cell_type": "code",
   "execution_count": null,
   "id": "5a8411be",
   "metadata": {},
   "outputs": [],
   "source": [
    "predicted_values\n"
   ]
  },
  {
   "cell_type": "code",
   "execution_count": null,
   "id": "98d22f49",
   "metadata": {},
   "outputs": [],
   "source": [
    "plt.plot(X_val, np.exp(X_val), 'r-')\n",
    "plt.plot(X_val, predicted_values, 'b-')"
   ]
  },
  {
   "cell_type": "code",
   "execution_count": null,
   "id": "7d11da6a",
   "metadata": {},
   "outputs": [],
   "source": [
    "tf.reduce_mean(tf.square(predicted_values - np.exp(X_val))).numpy()"
   ]
  }
 ],
 "metadata": {
  "kernelspec": {
   "display_name": "Python 3 (ipykernel)",
   "language": "python",
   "name": "python3"
  },
  "language_info": {
   "codemirror_mode": {
    "name": "ipython",
    "version": 3
   },
   "file_extension": ".py",
   "mimetype": "text/x-python",
   "name": "python",
   "nbconvert_exporter": "python",
   "pygments_lexer": "ipython3",
   "version": "3.7.16"
  }
 },
 "nbformat": 4,
 "nbformat_minor": 5
}
