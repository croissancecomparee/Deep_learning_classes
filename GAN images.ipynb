{
 "cells": [
  {
   "cell_type": "markdown",
   "id": "3390455c",
   "metadata": {},
   "source": [
    "# Création d'un modèle GAN avec image"
   ]
  },
  {
   "cell_type": "code",
   "execution_count": 28,
   "id": "896e1279",
   "metadata": {},
   "outputs": [],
   "source": [
    "%reset -f\n",
    "import numpy as np\n",
    "import tensorflow as tf \n",
    "from tensorflow.keras.models import Model\n",
    "from tensorflow.keras.layers import Dense\n",
    "from tensorflow.keras import Input\n",
    "from tensorflow.keras.layers import concatenate\n",
    "import matplotlib.pyplot as plt\n",
    "from tensorflow.keras.utils import plot_model\n",
    "from tensorflow import keras\n",
    "from tensorflow.keras import layers\n",
    "from keras.datasets.mnist import load_data\n",
    "from keras.layers import LeakyReLU\n",
    "from tensorflow.keras.optimizers import Adam"
   ]
  },
  {
   "cell_type": "code",
   "execution_count": 29,
   "id": "4c4b2b8b",
   "metadata": {},
   "outputs": [],
   "source": [
    "(X_train,_), (_,_) = load_data()"
   ]
  },
  {
   "cell_type": "markdown",
   "id": "a1235976",
   "metadata": {},
   "source": [
    "# BRIQUE RESEAU GAN"
   ]
  },
  {
   "cell_type": "code",
   "execution_count": 30,
   "id": "abe95c8f",
   "metadata": {},
   "outputs": [],
   "source": [
    "d_optim = tf.keras.optimizers.Adam(lr=0.001)\n",
    "g_optim = tf.keras.optimizers.Adam(lr=0.001)\n",
    "#ga_optim = tf.keras.optimizers.Adam(lr=0.0001)"
   ]
  },
  {
   "cell_type": "code",
   "execution_count": 36,
   "id": "314217c2",
   "metadata": {},
   "outputs": [
    {
     "name": "stdout",
     "output_type": "stream",
     "text": [
      "WARNING:tensorflow:Please add `keras.layers.InputLayer` instead of `keras.Input` to Sequential model. `keras.Input` is intended to be used by Functional model.\n",
      "WARNING:tensorflow:Please add `keras.layers.InputLayer` instead of `keras.Input` to Sequential model. `keras.Input` is intended to be used by Functional model.\n"
     ]
    }
   ],
   "source": [
    "\n",
    "latent_dim = 5\n",
    "\n",
    "# coding discriminator\n",
    "discriminator = tf.keras.models.Sequential([\n",
    "    tf.keras.layers.Input(shape=(784,)),  # dim 2 en entrée\n",
    "    tf.keras.layers.Dense(128, activation=LeakyReLU()),\n",
    "    tf.keras.layers.Dense(1, activation='sigmoid')  # Une sortie binaire\n",
    "])\n",
    "\n",
    "# coding generator\n",
    "generator = tf.keras.models.Sequential([\n",
    "    tf.keras.layers.Input(shape=(100,)),  # dim 100 en entrée\n",
    "    tf.keras.layers.Dense(128, activation=LeakyReLU()),\n",
    "    tf.keras.layers.Dense(784,activation='tanh'),\n",
    "#     tf.keras.layers.Dense(256, activation='relu'),\n",
    "#     tf.keras.layers.Dense(64, activation='relu'),\n",
    "    tf.keras.layers.Dense(2),\n",
    "])\n",
    "\n",
    "\n",
    "# optimizer = keras.optimizers.Adam(learning_rate=0.0002, beta_1=0.5)\n",
    "# Compilation des modèles\n",
    "# On n'a pas besoin de compiler le générateur\n",
    "# Car on n'entraine que le discriminateur et le GAN (qui contient le generateur)\n",
    "discriminator.compile(loss=\"binary_crossentropy\", optimizer=d_optim)\n",
    "discriminator.trainable = False \n",
    "\n",
    "# coding & compilation GAN\n",
    "gan = tf.keras.models.Sequential([generator, discriminator])\n",
    "gan.compile(loss=\"binary_crossentropy\", optimizer=ga_optim)"
   ]
  },
  {
   "cell_type": "markdown",
   "id": "c8436e6e",
   "metadata": {},
   "source": [
    "# generation fonction"
   ]
  },
  {
   "cell_type": "code",
   "execution_count": 20,
   "id": "7a611bdc",
   "metadata": {},
   "outputs": [],
   "source": [
    "def generate_fake_img(generator,latent_dim,n_samples):\n",
    "    generate_Matrice_latent_Space(latent_dim,n_samples)\n",
    "    X = generator.predict(noise)\n",
    "    s = np.zeors(n_samples).reshape(n_samples,)\n",
    "    return X,s"
   ]
  },
  {
   "cell_type": "code",
   "execution_count": null,
   "id": "e07a6b5c",
   "metadata": {},
   "outputs": [],
   "source": []
  }
 ],
 "metadata": {
  "kernelspec": {
   "display_name": "Python 3 (ipykernel)",
   "language": "python",
   "name": "python3"
  },
  "language_info": {
   "codemirror_mode": {
    "name": "ipython",
    "version": 3
   },
   "file_extension": ".py",
   "mimetype": "text/x-python",
   "name": "python",
   "nbconvert_exporter": "python",
   "pygments_lexer": "ipython3",
   "version": "3.7.16"
  }
 },
 "nbformat": 4,
 "nbformat_minor": 5
}
