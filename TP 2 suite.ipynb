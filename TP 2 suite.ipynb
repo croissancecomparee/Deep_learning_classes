{
 "cells": [
  {
   "cell_type": "code",
   "execution_count": 11,
   "id": "82db0aeb",
   "metadata": {},
   "outputs": [],
   "source": [
    "import numpy as np\n",
    "import tensorflow as tf \n",
    "from tensorflow.keras.models import Model\n",
    "from tensorflow.keras.layers import Dense\n",
    "from tensorflow.keras import Input\n",
    "from tensorflow.keras.layers import concatenate\n",
    "import matplotlib.pyplot as plt\n",
    "from tensorflow.keras.utils import plot_model"
   ]
  },
  {
   "cell_type": "code",
   "execution_count": 12,
   "id": "bb135abc",
   "metadata": {},
   "outputs": [],
   "source": [
    "N = 15"
   ]
  },
  {
   "cell_type": "code",
   "execution_count": 13,
   "id": "2c767234",
   "metadata": {},
   "outputs": [],
   "source": [
    "x1 = tf.Variable(np.zeros(N).reshape(N,1),dtype=tf.float32)\n",
    "x2 = tf.Variable(np.zeros(N).reshape(N,1),dtype=tf.float32)\n",
    "x3 = tf.Variable(np.zeros(N).reshape(N,1),dtype=tf.float32)"
   ]
  },
  {
   "cell_type": "code",
   "execution_count": 14,
   "id": "223f3209",
   "metadata": {},
   "outputs": [],
   "source": [
    "X_train = np.empty((N,3))\n",
    "grad_lambn = np.zeros(5)"
   ]
  },
  {
   "cell_type": "code",
   "execution_count": 15,
   "id": "f3b78e88",
   "metadata": {},
   "outputs": [
    {
     "ename": "ValueError",
     "evalue": "setting an array element with a sequence.",
     "output_type": "error",
     "traceback": [
      "\u001b[1;31m---------------------------------------------------------------------------\u001b[0m",
      "\u001b[1;31mTypeError\u001b[0m                                 Traceback (most recent call last)",
      "\u001b[1;32mC:\\ProgramData\\anaconda3\\envs\\Tensorflow_GPU_0\\lib\\site-packages\\tensorflow\\python\\framework\\ops.py\u001b[0m in \u001b[0;36m__float__\u001b[1;34m(self)\u001b[0m\n\u001b[0;32m   1000\u001b[0m   \u001b[1;32mdef\u001b[0m \u001b[0m__float__\u001b[0m\u001b[1;33m(\u001b[0m\u001b[0mself\u001b[0m\u001b[1;33m)\u001b[0m\u001b[1;33m:\u001b[0m\u001b[1;33m\u001b[0m\u001b[1;33m\u001b[0m\u001b[0m\n\u001b[1;32m-> 1001\u001b[1;33m     \u001b[1;32mreturn\u001b[0m \u001b[0mfloat\u001b[0m\u001b[1;33m(\u001b[0m\u001b[0mself\u001b[0m\u001b[1;33m.\u001b[0m\u001b[0m_numpy\u001b[0m\u001b[1;33m(\u001b[0m\u001b[1;33m)\u001b[0m\u001b[1;33m)\u001b[0m\u001b[1;33m\u001b[0m\u001b[1;33m\u001b[0m\u001b[0m\n\u001b[0m\u001b[0;32m   1002\u001b[0m \u001b[1;33m\u001b[0m\u001b[0m\n",
      "\u001b[1;31mTypeError\u001b[0m: only size-1 arrays can be converted to Python scalars",
      "\nThe above exception was the direct cause of the following exception:\n",
      "\u001b[1;31mValueError\u001b[0m                                Traceback (most recent call last)",
      "\u001b[1;32m~\\AppData\\Local\\Temp\\ipykernel_22556\\4238534669.py\u001b[0m in \u001b[0;36m<module>\u001b[1;34m\u001b[0m\n\u001b[0;32m      9\u001b[0m     \u001b[1;32mfor\u001b[0m \u001b[0mj\u001b[0m \u001b[1;32min\u001b[0m \u001b[0mrange\u001b[0m\u001b[1;33m(\u001b[0m\u001b[1;36m0\u001b[0m\u001b[1;33m,\u001b[0m\u001b[0mN\u001b[0m\u001b[1;33m)\u001b[0m\u001b[1;33m:\u001b[0m\u001b[1;33m\u001b[0m\u001b[1;33m\u001b[0m\u001b[0m\n\u001b[0;32m     10\u001b[0m         \u001b[1;32mfor\u001b[0m \u001b[0mk\u001b[0m \u001b[1;32min\u001b[0m \u001b[0mrange\u001b[0m\u001b[1;33m(\u001b[0m\u001b[1;36m0\u001b[0m\u001b[1;33m,\u001b[0m\u001b[0mN\u001b[0m\u001b[1;33m)\u001b[0m\u001b[1;33m:\u001b[0m\u001b[1;33m\u001b[0m\u001b[1;33m\u001b[0m\u001b[0m\n\u001b[1;32m---> 11\u001b[1;33m             \u001b[0mX_train\u001b[0m\u001b[1;33m[\u001b[0m\u001b[0mc\u001b[0m\u001b[1;33m,\u001b[0m\u001b[1;36m0\u001b[0m\u001b[1;33m]\u001b[0m \u001b[1;33m=\u001b[0m \u001b[0mi\u001b[0m\u001b[1;33m*\u001b[0m\u001b[0mx1\u001b[0m\u001b[1;33m\u001b[0m\u001b[1;33m\u001b[0m\u001b[0m\n\u001b[0m\u001b[0;32m     12\u001b[0m             \u001b[0mX_train\u001b[0m\u001b[1;33m[\u001b[0m\u001b[0mc\u001b[0m\u001b[1;33m,\u001b[0m\u001b[1;36m1\u001b[0m\u001b[1;33m]\u001b[0m \u001b[1;33m=\u001b[0m \u001b[0mj\u001b[0m\u001b[1;33m*\u001b[0m\u001b[0mx2\u001b[0m\u001b[1;33m\u001b[0m\u001b[1;33m\u001b[0m\u001b[0m\n\u001b[0;32m     13\u001b[0m             \u001b[0mX_train\u001b[0m\u001b[1;33m[\u001b[0m\u001b[0mc\u001b[0m\u001b[1;33m,\u001b[0m\u001b[1;36m2\u001b[0m\u001b[1;33m]\u001b[0m \u001b[1;33m=\u001b[0m \u001b[0mk\u001b[0m\u001b[1;33m*\u001b[0m\u001b[0mx3\u001b[0m\u001b[1;33m\u001b[0m\u001b[1;33m\u001b[0m\u001b[0m\n",
      "\u001b[1;31mValueError\u001b[0m: setting an array element with a sequence."
     ]
    }
   ],
   "source": [
    "c = 0\n",
    "xn = np.zeros(5)\n",
    "grad_lambn = np.zeros(5)\n",
    "lamb1 = 0\n",
    "lamb2 = 0\n",
    "dt = 0.05\n",
    "\n",
    "for i in range(0,N):\n",
    "    for j in range(0,N):\n",
    "        for k in range(0,N):\n",
    "            X_train[c,0] = i*x1\n",
    "            X_train[c,1] = j*x2\n",
    "            X_train[c,2] = k*x3\n",
    "            with tf.GradientTape() as tape:\n",
    "                y_train = (X_train[c,0]**2 + X_train[c,1]**2 + X_train[c,2]**2)/2\n",
    "            grad_Fn = tape.gradient(y_train,X_train[c])\n",
    "\n",
    "            #print(grad_Fn)"
   ]
  },
  {
   "cell_type": "code",
   "execution_count": 9,
   "id": "6963626d",
   "metadata": {},
   "outputs": [
    {
     "data": {
      "text/plain": [
       "array([7.29112202e-304, 5.44760372e-270, 2.50036431e-231])"
      ]
     },
     "execution_count": 9,
     "metadata": {},
     "output_type": "execute_result"
    }
   ],
   "source": [
    "X_train[2]"
   ]
  },
  {
   "cell_type": "markdown",
   "id": "28f51b1a",
   "metadata": {},
   "source": [
    "# correction"
   ]
  },
  {
   "cell_type": "code",
   "execution_count": null,
   "id": "14f0314e",
   "metadata": {},
   "outputs": [],
   "source": [
    "#build model\n",
    "x0=Input(shape=(1,))\n",
    "\n",
    "x1=Dense(40,input_dim=1,activation='sigmoid')(x0)\n",
    "x2=Dense(40,input_dim=1,activation='sigmoid')(x1)\n",
    "x3=Dense(40,input_dim=1,activation='sigmoid')(x2)\n",
    "\n",
    "model=Model(inputs=x0, outputs=x3)\n",
    "\n",
    "#compile the model and compute the parameters of the model\n",
    "model.compile(optimizer='rmsprop',loss=['mse'], loss_weights=[1],metrics='mse')\n",
    "model.fit(X_train,y_train,epochs=300,batch_size=32)"
   ]
  },
  {
   "cell_type": "code",
   "execution_count": null,
   "id": "d1d0c95e",
   "metadata": {},
   "outputs": [],
   "source": [
    "x = np.array([[0,0,0]])\n",
    "x = tf.Variable(x,dtype=32)\n",
    "\n",
    "for t in range(1,101):\n",
    "    x = tf.Variable(x,dtype=32)\n",
    "    with tf.GradientTape() as tape:\n",
    "        y=model(x)\n",
    "        \n",
    "    gradF = tape.gradient(y,x)\n",
    "    \n",
    "    x=np.array(x)\n",
    "    \n",
    "    x[0,0] = x[0,0] - 0.05*(gradF[0]+lamb1+lamb2)\n",
    "    x[0,1] = x[0,1] - 0.05*(gradF[1]-lamb1 + lamb2)\n",
    "    x[0,2] = x[0,2] - 0.05*(gradF[2]+lamb2)\n",
    "    lamb1 = lamb1 - lamb2 - 0.05(x[0,0]-x[0,1])\n",
    "    lamb2 = lamb2 - lamb1 - 0.05(x[0,0]+x[0,1]+x[0,2])\n",
    "    \n",
    "min(x)"
   ]
  },
  {
   "cell_type": "markdown",
   "id": "9c4aefa0",
   "metadata": {},
   "source": [
    "# deuxieme parti"
   ]
  },
  {
   "cell_type": "code",
   "execution_count": null,
   "id": "6c871b23",
   "metadata": {},
   "outputs": [],
   "source": [
    "x = np.array([[0,0,0]])\n",
    "x_old = x\n",
    "lam1 = 0\n",
    "lam2 = 0\n",
    "lam1_old = lam1\n",
    "lam2_old = lam2\n",
    "\n",
    "for i in range(100):\n",
    "    x = tf.Variable(x,dtype=32)\n",
    "    with tf.GradientTape() as tape:\n",
    "        y1 = model(x)\n",
    "    grad1 = tape.gradient(y1,x)\n",
    "    lam1 = lam1_old - 0.05(x_old[0,0]-x_old[0,1])\n",
    "    lam2 = lam2_old - 0.05(x_old[0,0]+x_old[0,1]+x_old[0,2]-1)\n",
    "    x = x_old - 0.05(grad1 - lam1*np.array(1,-1,0) - lam2*np.array(1,1,1))\n",
    "    x_old = x\n",
    "    lam1_old = lam1\n",
    "    lam2_old = lam2\n",
    "    print(x,lam1,lam2)"
   ]
  }
 ],
 "metadata": {
  "kernelspec": {
   "display_name": "Python 3 (ipykernel)",
   "language": "python",
   "name": "python3"
  },
  "language_info": {
   "codemirror_mode": {
    "name": "ipython",
    "version": 3
   },
   "file_extension": ".py",
   "mimetype": "text/x-python",
   "name": "python",
   "nbconvert_exporter": "python",
   "pygments_lexer": "ipython3",
   "version": "3.7.16"
  }
 },
 "nbformat": 4,
 "nbformat_minor": 5
}
