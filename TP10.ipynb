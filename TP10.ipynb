{
 "cells": [
  {
   "cell_type": "code",
   "execution_count": 14,
   "id": "c6bc1f5c",
   "metadata": {},
   "outputs": [],
   "source": [
    "%reset -f\n",
    "import numpy as np\n",
    "import tensorflow as tf \n",
    "from tensorflow.keras.models import Model\n",
    "from tensorflow.keras.layers import Dense\n",
    "from tensorflow.keras import Input\n",
    "from tensorflow.keras.layers import concatenate\n",
    "import matplotlib.pyplot as plt\n",
    "from tensorflow.keras.utils import plot_model\n",
    "from tensorflow import keras\n",
    "from tensorflow.keras import layers\n",
    "from keras.datasets.mnist import load_data\n",
    "from keras.layers import LeakyReLU\n",
    "from tensorflow.keras.optimizers import Adam"
   ]
  },
  {
   "cell_type": "code",
   "execution_count": 3,
   "id": "418b0bad",
   "metadata": {},
   "outputs": [],
   "source": [
    "(X_train,y_train), (X_test, y_test) = load_data()"
   ]
  },
  {
   "cell_type": "code",
   "execution_count": 4,
   "id": "8e47ce3d",
   "metadata": {},
   "outputs": [
    {
     "data": {
      "text/plain": [
       "(60000, 28, 28)"
      ]
     },
     "execution_count": 4,
     "metadata": {},
     "output_type": "execute_result"
    }
   ],
   "source": [
    "X_train.shape"
   ]
  },
  {
   "cell_type": "code",
   "execution_count": 5,
   "id": "1a23798a",
   "metadata": {},
   "outputs": [],
   "source": [
    "X_train = X_train.reshape((60000,784))"
   ]
  },
  {
   "cell_type": "code",
   "execution_count": 6,
   "id": "e22a30e9",
   "metadata": {},
   "outputs": [],
   "source": [
    "X_train = X_train.astype('float32')/255.0"
   ]
  },
  {
   "cell_type": "code",
   "execution_count": 7,
   "id": "ba4ea315",
   "metadata": {},
   "outputs": [],
   "source": [
    "X_train = 2*X_train-1"
   ]
  },
  {
   "cell_type": "markdown",
   "id": "7896dd2f",
   "metadata": {},
   "source": [
    "# modèle encodeur"
   ]
  },
  {
   "cell_type": "code",
   "execution_count": 19,
   "id": "bfd000ce",
   "metadata": {},
   "outputs": [],
   "source": [
    "latent_dim = 5"
   ]
  },
  {
   "cell_type": "code",
   "execution_count": 20,
   "id": "293a3935",
   "metadata": {},
   "outputs": [
    {
     "name": "stdout",
     "output_type": "stream",
     "text": [
      "WARNING:tensorflow:Please add `keras.layers.InputLayer` instead of `keras.Input` to Sequential model. `keras.Input` is intended to be used by Functional model.\n"
     ]
    }
   ],
   "source": [
    "encodeur = tf.keras.Sequential ([\n",
    "    layers.Input(shape=(784,)),\n",
    "    layers.Dense(128, activation=LeakyReLU(0.01)),\n",
    "    layers.Dense(128, activation=LeakyReLU(0.01)),\n",
    "    layers.Dense(128, activation=LeakyReLU(0.01)),\n",
    "    layers.Dense(latent_dim, activation='sigmoid'),\n",
    "])"
   ]
  },
  {
   "cell_type": "markdown",
   "id": "eaa2e37e",
   "metadata": {},
   "source": [
    "# modèle décodeur"
   ]
  },
  {
   "cell_type": "code",
   "execution_count": 22,
   "id": "0472831d",
   "metadata": {},
   "outputs": [
    {
     "name": "stdout",
     "output_type": "stream",
     "text": [
      "WARNING:tensorflow:Please add `keras.layers.InputLayer` instead of `keras.Input` to Sequential model. `keras.Input` is intended to be used by Functional model.\n"
     ]
    }
   ],
   "source": [
    "decodeur = tf.keras.Sequential ([\n",
    "    layers.Input(shape=(latent_dim,)),\n",
    "    layers.Dense(128, activation=LeakyReLU(0.01)),\n",
    "    layers.Dense(128, activation=LeakyReLU(0.01)),\n",
    "    layers.Dense(128, activation=LeakyReLU(0.01)),\n",
    "    layers.Dense(784, activation='tanh')\n",
    "])"
   ]
  },
  {
   "cell_type": "code",
   "execution_count": 24,
   "id": "e1b4040c",
   "metadata": {},
   "outputs": [],
   "source": [
    "encodeur.compile(optimizer='adam',loss='mse')\n",
    "decodeur.compile(optimizer='adam',loss='mse')"
   ]
  },
  {
   "cell_type": "markdown",
   "id": "9160f9b2",
   "metadata": {},
   "source": [
    "# modele auto-encodeur"
   ]
  },
  {
   "cell_type": "code",
   "execution_count": 31,
   "id": "c7fba1d3",
   "metadata": {},
   "outputs": [
    {
     "name": "stdout",
     "output_type": "stream",
     "text": [
      "WARNING:tensorflow:Please add `keras.layers.InputLayer` instead of `keras.Input` to Sequential model. `keras.Input` is intended to be used by Functional model.\n"
     ]
    }
   ],
   "source": [
    "model = tf.keras.Sequential([\n",
    "    layers.Input(shape=(784,)),\n",
    "    layers.Dense(392, activation='relu'),\n",
    "    layers.Dense(196, activation='relu'),\n",
    "    layers.Dense(98, activation='relu'),\n",
    "    layers.Dense(196, activation='relu'),\n",
    "    layers.Dense(392, activation='relu'),\n",
    "    layers.Dense(784,activation='tanh')\n",
    "])"
   ]
  },
  {
   "cell_type": "code",
   "execution_count": 32,
   "id": "e6f9258a",
   "metadata": {},
   "outputs": [],
   "source": [
    "model.compile(optimizer='adam',loss='mse')"
   ]
  },
  {
   "cell_type": "code",
   "execution_count": null,
   "id": "827e9203",
   "metadata": {},
   "outputs": [],
   "source": []
  }
 ],
 "metadata": {
  "kernelspec": {
   "display_name": "Python 3 (ipykernel)",
   "language": "python",
   "name": "python3"
  },
  "language_info": {
   "codemirror_mode": {
    "name": "ipython",
    "version": 3
   },
   "file_extension": ".py",
   "mimetype": "text/x-python",
   "name": "python",
   "nbconvert_exporter": "python",
   "pygments_lexer": "ipython3",
   "version": "3.7.16"
  }
 },
 "nbformat": 4,
 "nbformat_minor": 5
}
