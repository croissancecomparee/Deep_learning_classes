{
 "cells": [
  {
   "cell_type": "code",
   "execution_count": 1,
   "id": "f5a56ddb",
   "metadata": {},
   "outputs": [],
   "source": [
    "%reset -f\n",
    "\n",
    "import tensorflow as tf\n",
    "import numpy as np\n",
    "import matplotlib.pyplot as plt\n",
    "from keras.models import Sequential\n",
    "from keras.models import Model\n",
    "from keras.layers import Dense\n",
    "from keras import Input\n",
    "from keras.datasets.mnist import load_data\n",
    "from keras.layers import LeakyReLU\n",
    "#from tensorflow.keras.optimizers import Adam\n",
    "from keras.optimizers import adam_v2"
   ]
  },
  {
   "cell_type": "markdown",
   "id": "36013a8e",
   "metadata": {},
   "source": [
    "># Codage de la fonction"
   ]
  },
  {
   "cell_type": "code",
   "execution_count": 2,
   "id": "d9f45992",
   "metadata": {},
   "outputs": [],
   "source": [
    "# def sampling(mu,sigma):\n",
    "#     n = tf.shape(mu)\n",
    "#     epsilon1 = np.rand(n)\n",
    "#     epsilon2 = np.rand(n)\n",
    "#     epsilon = np.zeros((n,2))\n",
    "#     for i in range(n):\n",
    "#         epsilon[i][0] = epsilon1[i]\n",
    "#         epsilon[i][1] = epsilon2[i]\n",
    "    \n",
    "#     epsilon = convert_to_tensor(epsilon)\n",
    "#     z = convert_to_tensor(np.zeros((n,2)))\n",
    "#     z = mu + sigma*epsilon\n",
    "#     return z"
   ]
  },
  {
   "cell_type": "markdown",
   "id": "e12e9004",
   "metadata": {},
   "source": [
    "### correction"
   ]
  },
  {
   "cell_type": "code",
   "execution_count": 3,
   "id": "15022fbd",
   "metadata": {},
   "outputs": [],
   "source": [
    "# def sampling1(mu,sigma):\n",
    "#     dim = tf.shape(mu)\n",
    "#     epsilon = tf.random.normal(dim)\n",
    "#     z = mu + sigma*epsilon\n",
    "#     return z"
   ]
  },
  {
   "cell_type": "code",
   "execution_count": 2,
   "id": "e7bd52b9",
   "metadata": {},
   "outputs": [],
   "source": [
    "def sampling(mu_sigma):\n",
    "    \"\"\"mu_sigma une liste contenant mu et sigma\"\"\"\n",
    "    dim = tf.shape(mu_sigma[0])\n",
    "    epsilon=(tf.random.normal(dim))\n",
    "    mu = mu_sigma[0]\n",
    "    sigma = mu_sigma[1]\n",
    "    z = mu + sigma*epsilon\n",
    "    return z"
   ]
  },
  {
   "cell_type": "markdown",
   "id": "07c888fe",
   "metadata": {},
   "source": [
    "># Construction du modèle"
   ]
  },
  {
   "cell_type": "code",
   "execution_count": 5,
   "id": "bf965d3d",
   "metadata": {},
   "outputs": [],
   "source": [
    "# model = tf.keras.Sequential([\n",
    "#     layers.Input(shape=(784,)),\n",
    "#     layers.Dense(256,activation='relu')\n",
    "#     layers.Dense(2,)\n",
    "# ])\n",
    "\n",
    "# #marche pas"
   ]
  },
  {
   "cell_type": "code",
   "execution_count": 61,
   "id": "9b2d72fc",
   "metadata": {},
   "outputs": [],
   "source": [
    "# Encodeur\n",
    "x0 = Input(shape=(784,))\n",
    "x1 = Dense(256,activation='relu')(x0)\n",
    "mu = Dense(2,activation='relu')(x1)\n",
    "sigma = Dense(2,activation='relu')(x1)\n",
    "\n",
    "# Decodeur\n",
    "z = tf.keras.layers.Lambda(sampling)([mu,sigma])\n",
    "x4 = Dense(256,activation='relu')(z)\n",
    "x5 = Dense(784,activation='sigmoid')(x4)\n",
    "\n",
    "model = Model(inputs=x0,outputs=x5)\n",
    "encodeur = Model(inputs=x0,outputs=z)\n",
    "\n",
    "#  \n",
    "decodeur_input = Input(shape=(2,))\n",
    "x4_decoded = Dense(256,activation='relu')(decodeur_input)\n",
    "x5_decoded = Dense(784,activation='sigmoid')(x4_decoded)\n",
    "\n",
    "decodeur = Model(inputs=decodeur_input,outputs=x5_decoded)\n",
    "VAE = Model(inputs=x0,outputs=decodeur(encodeur(x0)))"
   ]
  },
  {
   "cell_type": "markdown",
   "id": "142ff82a",
   "metadata": {},
   "source": [
    "### Loss"
   ]
  },
  {
   "cell_type": "code",
   "execution_count": 62,
   "id": "09b30781",
   "metadata": {},
   "outputs": [],
   "source": [
    "loss = (\n",
    "    1000*tf.reduce_mean(tf.math.square(x0-decodeur(encodeur(x0))))\n",
    "    + tf.reduce_mean(tf.math.square(mu))\n",
    "    + tf.reduce_mean(tf.math.square(sigma-1))\n",
    ")\n",
    "\n",
    "VAE.add_loss(loss)"
   ]
  },
  {
   "cell_type": "code",
   "execution_count": 8,
   "id": "4d6f305c",
   "metadata": {},
   "outputs": [],
   "source": [
    "# kl_loss = -0.5 * tf.reduce_sum(1 + sigma - tf.square(mu) - tf.exp(sigma), axis=1)\n",
    "# kl_loss = tf.reduce_mean(kl_loss)\n",
    "\n",
    "# # Calcul de la perte de reconstruction\n",
    "# reconstruction_loss = tf.reduce_mean(tf.square(x0 - x5_decoded))\n",
    "\n",
    "# # Perte totale\n",
    "# total_loss = reconstruction_loss + kl_loss\n",
    "\n",
    "# # Ajout de la la loss\n",
    "# VAE.add_loss(total_loss)\n",
    "\n",
    "# # de la merde "
   ]
  },
  {
   "cell_type": "markdown",
   "id": "f5b9b859",
   "metadata": {},
   "source": [
    "### Compilation du modèle"
   ]
  },
  {
   "cell_type": "code",
   "execution_count": 63,
   "id": "1e01a197",
   "metadata": {},
   "outputs": [],
   "source": [
    "# VAE.compile(optimizer=adam_v2.Adam(learning_rate=0.001))\n",
    "VAE.compile(optimizer='adam')"
   ]
  },
  {
   "cell_type": "code",
   "execution_count": 6,
   "id": "c0e69370",
   "metadata": {},
   "outputs": [
    {
     "name": "stdout",
     "output_type": "stream",
     "text": [
      "Model: \"model_1\"\n",
      "__________________________________________________________________________________________________\n",
      "Layer (type)                    Output Shape         Param #     Connected to                     \n",
      "==================================================================================================\n",
      "input_1 (InputLayer)            [(None, 784)]        0                                            \n",
      "__________________________________________________________________________________________________\n",
      "dense (Dense)                   (None, 256)          200960      input_1[0][0]                    \n",
      "__________________________________________________________________________________________________\n",
      "dense_1 (Dense)                 (None, 2)            514         dense[0][0]                      \n",
      "__________________________________________________________________________________________________\n",
      "tf.compat.v1.shape (TFOpLambda) (2,)                 0           dense_1[0][0]                    \n",
      "__________________________________________________________________________________________________\n",
      "dense_2 (Dense)                 (None, 2)            514         dense[0][0]                      \n",
      "__________________________________________________________________________________________________\n",
      "tf.random.normal (TFOpLambda)   (None, 2)            0           tf.compat.v1.shape[0][0]         \n",
      "__________________________________________________________________________________________________\n",
      "tf.math.multiply (TFOpLambda)   (None, 2)            0           dense_2[0][0]                    \n",
      "                                                                 tf.random.normal[0][0]           \n",
      "__________________________________________________________________________________________________\n",
      "tf.__operators__.add (TFOpLambd (None, 2)            0           dense_1[0][0]                    \n",
      "                                                                 tf.math.multiply[0][0]           \n",
      "==================================================================================================\n",
      "Total params: 201,988\n",
      "Trainable params: 201,988\n",
      "Non-trainable params: 0\n",
      "__________________________________________________________________________________________________\n",
      "Model: \"model_2\"\n",
      "_________________________________________________________________\n",
      "Layer (type)                 Output Shape              Param #   \n",
      "=================================================================\n",
      "input_2 (InputLayer)         [(None, 2)]               0         \n",
      "_________________________________________________________________\n",
      "dense_5 (Dense)              (None, 256)               768       \n",
      "_________________________________________________________________\n",
      "dense_6 (Dense)              (None, 784)               201488    \n",
      "=================================================================\n",
      "Total params: 202,256\n",
      "Trainable params: 202,256\n",
      "Non-trainable params: 0\n",
      "_________________________________________________________________\n",
      "Model: \"model_3\"\n",
      "__________________________________________________________________________________________________\n",
      "Layer (type)                    Output Shape         Param #     Connected to                     \n",
      "==================================================================================================\n",
      "input_1 (InputLayer)            [(None, 784)]        0                                            \n",
      "__________________________________________________________________________________________________\n",
      "model_1 (Functional)            (None, 2)            201988      input_1[0][0]                    \n",
      "                                                                 input_1[0][0]                    \n",
      "__________________________________________________________________________________________________\n",
      "model_2 (Functional)            (None, 784)          202256      model_1[0][0]                    \n",
      "                                                                 model_1[1][0]                    \n",
      "__________________________________________________________________________________________________\n",
      "dense (Dense)                   (None, 256)          200960      input_1[0][0]                    \n",
      "__________________________________________________________________________________________________\n",
      "tf.math.subtract (TFOpLambda)   (None, 784)          0           input_1[0][0]                    \n",
      "                                                                 model_2[1][0]                    \n",
      "__________________________________________________________________________________________________\n",
      "dense_1 (Dense)                 (None, 2)            514         dense[0][0]                      \n",
      "__________________________________________________________________________________________________\n",
      "dense_2 (Dense)                 (None, 2)            514         dense[0][0]                      \n",
      "__________________________________________________________________________________________________\n",
      "tf.math.square (TFOpLambda)     (None, 784)          0           tf.math.subtract[0][0]           \n",
      "__________________________________________________________________________________________________\n",
      "tf.math.square_1 (TFOpLambda)   (None, 2)            0           dense_1[0][0]                    \n",
      "__________________________________________________________________________________________________\n",
      "tf.math.subtract_1 (TFOpLambda) (None, 2)            0           dense_2[0][0]                    \n",
      "__________________________________________________________________________________________________\n",
      "tf.math.reduce_mean (TFOpLambda ()                   0           tf.math.square[0][0]             \n",
      "__________________________________________________________________________________________________\n",
      "tf.math.reduce_mean_1 (TFOpLamb ()                   0           tf.math.square_1[0][0]           \n",
      "__________________________________________________________________________________________________\n",
      "tf.math.square_2 (TFOpLambda)   (None, 2)            0           tf.math.subtract_1[0][0]         \n",
      "__________________________________________________________________________________________________\n",
      "tf.__operators__.add_1 (TFOpLam ()                   0           tf.math.reduce_mean[0][0]        \n",
      "                                                                 tf.math.reduce_mean_1[0][0]      \n",
      "__________________________________________________________________________________________________\n",
      "tf.math.reduce_mean_2 (TFOpLamb ()                   0           tf.math.square_2[0][0]           \n",
      "__________________________________________________________________________________________________\n",
      "tf.__operators__.add_2 (TFOpLam ()                   0           tf.__operators__.add_1[0][0]     \n",
      "                                                                 tf.math.reduce_mean_2[0][0]      \n",
      "__________________________________________________________________________________________________\n",
      "add_loss (AddLoss)              ()                   0           tf.__operators__.add_2[0][0]     \n",
      "==================================================================================================\n",
      "Total params: 404,244\n",
      "Trainable params: 404,244\n",
      "Non-trainable params: 0\n",
      "__________________________________________________________________________________________________\n"
     ]
    }
   ],
   "source": [
    "encodeur.summary()\n",
    "decodeur.summary()\n",
    "VAE.summary()"
   ]
  },
  {
   "cell_type": "markdown",
   "id": "d312de9f",
   "metadata": {},
   "source": [
    "># Chargement des données"
   ]
  },
  {
   "cell_type": "code",
   "execution_count": 7,
   "id": "b85961b5",
   "metadata": {},
   "outputs": [],
   "source": [
    "(X_train,y_train), (X_test, y_test) = load_data()"
   ]
  },
  {
   "cell_type": "code",
   "execution_count": 12,
   "id": "5e863fb7",
   "metadata": {},
   "outputs": [],
   "source": [
    "# X_train = X_train.reshape((60000,784))"
   ]
  },
  {
   "cell_type": "markdown",
   "id": "c1ab1750",
   "metadata": {},
   "source": [
    "### Normalisation des données"
   ]
  },
  {
   "cell_type": "code",
   "execution_count": 8,
   "id": "154acb63",
   "metadata": {},
   "outputs": [],
   "source": [
    "X_train = X_train[:50000,:,:]\n",
    "X_val = X_train[50000:,:,:]"
   ]
  },
  {
   "cell_type": "code",
   "execution_count": 9,
   "id": "7b7a4bf2",
   "metadata": {},
   "outputs": [
    {
     "data": {
      "image/png": "[encoded data removed]",
      "text/plain": [
       "<Figure size 500x500 with 12 Axes>"
      ]
     },
     "metadata": {},
     "output_type": "display_data"
    }
   ],
   "source": [
    "# Create a figure with 3x3 subplots\n",
    "fig, axes = plt.subplots(3, 4, figsize=(5, 5))\n",
    "# Loop through the images and display them in the subplots\n",
    "for i, ax in enumerate(axes.ravel()):\n",
    "    idx = np.random.randint(0,X_train.shape[0] - 1)\n",
    "    ax.imshow(X_train[idx], cmap = 'gray')\n",
    "    ax.axis('off')\n",
    "plt.show()"
   ]
  },
  {
   "cell_type": "code",
   "execution_count": 10,
   "id": "924fcda1",
   "metadata": {},
   "outputs": [
    {
     "name": "stdout",
     "output_type": "stream",
     "text": [
      "(50000, 784)\n",
      "(0, 784)\n"
     ]
    }
   ],
   "source": [
    "X_train = X_train.reshape((X_train.shape[0],X_train.shape[1]*X_train.shape[2]))\n",
    "X_train = X_train/255.0\n",
    "print(X_train.shape)\n",
    "\n",
    "X_val = X_val.reshape((X_val.shape[0],X_val.shape[1]*X_val.shape[2]))\n",
    "X_val = X_val/255.0\n",
    "print(X_val.shape)"
   ]
  },
  {
   "cell_type": "code",
   "execution_count": 18,
   "id": "4d44a79e",
   "metadata": {},
   "outputs": [],
   "source": [
    "# X_train = X_train.astype('float32')/255.0"
   ]
  },
  {
   "cell_type": "code",
   "execution_count": 19,
   "id": "2b5b5e0d",
   "metadata": {},
   "outputs": [],
   "source": [
    "# X_train = 2*X_train-1"
   ]
  },
  {
   "cell_type": "markdown",
   "id": "e6aa51d2",
   "metadata": {},
   "source": [
    "># Fit du modèle"
   ]
  },
  {
   "cell_type": "code",
   "execution_count": 64,
   "id": "934a07de",
   "metadata": {},
   "outputs": [
    {
     "name": "stdout",
     "output_type": "stream",
     "text": [
      "Epoch 1/20\n",
      "167/167 [==============================] - 2s 7ms/step - loss: 122.6266\n",
      "Epoch 2/20\n",
      "167/167 [==============================] - 1s 5ms/step - loss: 64.9306\n",
      "Epoch 3/20\n",
      "167/167 [==============================] - 1s 5ms/step - loss: 60.0710\n",
      "Epoch 4/20\n",
      "167/167 [==============================] - 1s 5ms/step - loss: 57.4734\n",
      "Epoch 5/20\n",
      "167/167 [==============================] - 1s 5ms/step - loss: 56.6475\n",
      "Epoch 6/20\n",
      "167/167 [==============================] - 1s 5ms/step - loss: 55.8420\n",
      "Epoch 7/20\n",
      "167/167 [==============================] - 1s 5ms/step - loss: 54.6335\n",
      "Epoch 8/20\n",
      "167/167 [==============================] - 1s 5ms/step - loss: 53.7661\n",
      "Epoch 9/20\n",
      "167/167 [==============================] - 1s 5ms/step - loss: 53.0162\n",
      "Epoch 10/20\n",
      "167/167 [==============================] - 1s 4ms/step - loss: 52.5377\n",
      "Epoch 11/20\n",
      "167/167 [==============================] - 1s 4ms/step - loss: 52.1223\n",
      "Epoch 12/20\n",
      "167/167 [==============================] - 1s 4ms/step - loss: 51.5751\n",
      "Epoch 13/20\n",
      "167/167 [==============================] - 1s 4ms/step - loss: 51.1566\n",
      "Epoch 14/20\n",
      "167/167 [==============================] - 1s 4ms/step - loss: 50.7434\n",
      "Epoch 15/20\n",
      "167/167 [==============================] - 1s 4ms/step - loss: 50.4859\n",
      "Epoch 16/20\n",
      "167/167 [==============================] - 1s 5ms/step - loss: 50.2217\n",
      "Epoch 17/20\n",
      "167/167 [==============================] - 1s 5ms/step - loss: 50.0663\n",
      "Epoch 18/20\n",
      "167/167 [==============================] - 1s 5ms/step - loss: 49.7703\n",
      "Epoch 19/20\n",
      "167/167 [==============================] - 1s 5ms/step - loss: 49.3224\n",
      "Epoch 20/20\n",
      "167/167 [==============================] - 1s 5ms/step - loss: 49.0151\n"
     ]
    }
   ],
   "source": [
    "hist = VAE.fit(X_train,X_train,epochs=20,batch_size=500,validation_data=(X_val,X_val))"
   ]
  },
  {
   "cell_type": "code",
   "execution_count": 65,
   "id": "063af665",
   "metadata": {},
   "outputs": [
    {
     "data": {
      "image/png": "[encoded data removed]",
      "text/plain": [
       "<Figure size 1000x600 with 1 Axes>"
      ]
     },
     "metadata": {},
     "output_type": "display_data"
    }
   ],
   "source": [
    "train_loss = hist.history['loss']\n",
    "#val_loss = hist.history['val_loss']\n",
    "\n",
    "epochs = range(1, len(train_loss) + 1)\n",
    "\n",
    "plt.figure(figsize=(10, 6))\n",
    "plt.plot(epochs, train_loss, 'r', label='Training Loss')\n",
    "#plt.plot(epochs, val_loss, 'b', label='Validation Loss')\n",
    "plt.title('Training and Validation Loss')\n",
    "plt.xlabel('Epochs')\n",
    "plt.ylabel('Loss')\n",
    "plt.legend()\n",
    "plt.show()"
   ]
  },
  {
   "cell_type": "code",
   "execution_count": 13,
   "id": "f58912ba",
   "metadata": {},
   "outputs": [],
   "source": [
    "X_test = X_test.reshape((X_test.shape[0],X_test.shape[1]*X_test.shape[2]))\n",
    "\n",
    "X_test = X_test/255.0"
   ]
  },
  {
   "cell_type": "code",
   "execution_count": 66,
   "id": "1bb183a8",
   "metadata": {},
   "outputs": [],
   "source": [
    "y_p = VAE.predict(X_test)"
   ]
  },
  {
   "cell_type": "code",
   "execution_count": 67,
   "id": "d59cd32e",
   "metadata": {},
   "outputs": [
    {
     "data": {
      "image/png": "[encoded data removed]",
      "text/plain": [
       "<Figure size 1800x400 with 20 Axes>"
      ]
     },
     "metadata": {},
     "output_type": "display_data"
    }
   ],
   "source": [
    "# Utiliser l'autoencodeur pour obtenir des reconstructions des données de test\n",
    "reconstructed_images = y_p\n",
    "\n",
    "# Choisir un échantillon d'images de test à afficher\n",
    "num_images_to_display = 10\n",
    "random_indices = np.random.choice(range(len(X_test)), num_images_to_display)\n",
    "\n",
    "# Afficher les images originales et leurs reconstructions\n",
    "plt.figure(figsize=(18, 4))\n",
    "for i, image_index in enumerate(random_indices):\n",
    "    # Image originale\n",
    "    plt.subplot(2, num_images_to_display, i + 1)\n",
    "    plt.imshow(X_test[image_index].reshape(28, 28), cmap='gray')\n",
    "    plt.title(\"Original\")\n",
    "    plt.axis('off')\n",
    "    \n",
    "    # Reconstruction\n",
    "    plt.subplot(2, num_images_to_display, i + 1 + num_images_to_display)\n",
    "    plt.imshow(reconstructed_images[image_index].reshape(28, 28), cmap='gray')\n",
    "    plt.title(\"Reconstruction\")\n",
    "    plt.axis('off')\n",
    "\n",
    "plt.tight_layout()\n",
    "plt.show()"
   ]
  },
  {
   "cell_type": "code",
   "execution_count": 69,
   "id": "7cfa2c78",
   "metadata": {},
   "outputs": [
    {
     "data": {
      "image/png": "[encoded data removed]",
      "text/plain": [
       "<Figure size 1000x1000 with 12 Axes>"
      ]
     },
     "metadata": {},
     "output_type": "display_data"
    }
   ],
   "source": [
    "# Générer de nouveaux individus\n",
    "num_samples = 12\n",
    "# Nombre d'individus à générer\n",
    "latent_space_samples = np.random.normal(size=(num_samples, 2))  # Générer des échantillons dans l'espace latent\n",
    "generated_images = decodeur.predict(latent_space_samples)\n",
    "\n",
    "\n",
    "plt.figure(figsize=(10, 10))\n",
    "for i in range(num_samples):\n",
    "    plt.subplot(4, 4, i + 1)\n",
    "    plt.imshow(generated_images[i].reshape(28, 28), cmap='gray')\n",
    "    plt.axis('off')\n",
    "\n",
    "plt.tight_layout()\n",
    "plt.show()"
   ]
  },
  {
   "cell_type": "markdown",
   "id": "5466d59b",
   "metadata": {},
   "source": [
    "># Représentation de l'espace latent"
   ]
  },
  {
   "cell_type": "markdown",
   "id": "f7db3bbc",
   "metadata": {},
   "source": [
    "#### on fait des trucs blablabla"
   ]
  },
  {
   "cell_type": "markdown",
   "id": "83165bbc",
   "metadata": {},
   "source": [
    "># Nouvelle fonction sampling"
   ]
  },
  {
   "cell_type": "code",
   "execution_count": 71,
   "id": "07725208",
   "metadata": {},
   "outputs": [],
   "source": [
    "def sampling_kl(mu_sigma):\n",
    "    \"\"\"mu_sigma une liste contenant mu et sigma\"\"\"\n",
    "    dim = tf.shape(mu_sigma[0])\n",
    "    epsilon=(tf.random.normal(dim))\n",
    "    mu = mu_sigma[0]\n",
    "    sigma = mu_sigma[1]\n",
    "    z = mu + tf.math.exp(1/2*tf.math.log(tf.math.square(sigma)))*epsilon\n",
    "    return z"
   ]
  },
  {
   "cell_type": "code",
   "execution_count": null,
   "id": "e591d2cc",
   "metadata": {},
   "outputs": [],
   "source": [
    "   "
   ]
  },
  {
   "cell_type": "markdown",
   "id": "6f3c36a7",
   "metadata": {},
   "source": [
    "># Nouvelle construction du modèle"
   ]
  },
  {
   "cell_type": "code",
   "execution_count": 77,
   "id": "e92fe07c",
   "metadata": {},
   "outputs": [],
   "source": [
    "# Encodeur\n",
    "x0 = Input(shape=(784,))\n",
    "x1 = Dense(256,activation='relu')(x0)\n",
    "mu = Dense(2,activation='relu')(x1)\n",
    "sigma = Dense(2,activation='relu')(x1)\n",
    "\n",
    "# Decodeur\n",
    "z = tf.keras.layers.Lambda(sampling_kl)([mu,sigma])\n",
    "x4 = Dense(256,activation='relu')(z)\n",
    "x5 = Dense(784,activation='sigmoid')(x4)\n",
    "\n",
    "model = Model(inputs=x0,outputs=x5)\n",
    "encodeur = Model(inputs=x0,outputs=z)\n",
    "\n",
    "#  \n",
    "decodeur_input = Input(shape=(2,))\n",
    "x4_decoded = Dense(256,activation='relu')(decodeur_input)\n",
    "x5_decoded = Dense(784,activation='sigmoid')(x4_decoded)\n",
    "\n",
    "decodeur = Model(inputs=decodeur_input,outputs=x5_decoded)\n",
    "VAE = Model(inputs=x0,outputs=decodeur(encodeur(x0)))"
   ]
  },
  {
   "cell_type": "markdown",
   "id": "e8e4e99b",
   "metadata": {},
   "source": [
    "## loss "
   ]
  },
  {
   "cell_type": "code",
   "execution_count": 78,
   "id": "1b70c029",
   "metadata": {},
   "outputs": [],
   "source": [
    "loss = (\n",
    "    1000*tf.reduce_mean(tf.math.square(x0-decodeur(encodeur(x0))))\n",
    "    + tf.reduce_mean(tf.math.square(mu))\n",
    "    + tf.reduce_mean(tf.math.square(sigma-1))\n",
    ")\n",
    "\n",
    "VAE.add_loss(loss)"
   ]
  },
  {
   "cell_type": "markdown",
   "id": "d33eaa0c",
   "metadata": {},
   "source": [
    "## compilation du modèle"
   ]
  },
  {
   "cell_type": "code",
   "execution_count": 79,
   "id": "e3856118",
   "metadata": {},
   "outputs": [],
   "source": [
    "# VAE.compile(optimizer=adam_v2.Adam(learning_rate=0.001))\n",
    "VAE.compile(optimizer='adam')"
   ]
  },
  {
   "cell_type": "markdown",
   "id": "c101f6d5",
   "metadata": {},
   "source": [
    "## fit du modèle"
   ]
  },
  {
   "cell_type": "code",
   "execution_count": 80,
   "id": "6dd0b4de",
   "metadata": {},
   "outputs": [
    {
     "name": "stdout",
     "output_type": "stream",
     "text": [
      "Epoch 1/20\n",
      "100/100 [==============================] - 3s 10ms/step - loss: nan\n",
      "Epoch 2/20\n",
      "100/100 [==============================] - 1s 6ms/step - loss: nan\n",
      "Epoch 3/20\n",
      "100/100 [==============================] - 1s 6ms/step - loss: nan\n",
      "Epoch 4/20\n",
      "100/100 [==============================] - 1s 6ms/step - loss: nan\n",
      "Epoch 5/20\n",
      "100/100 [==============================] - 1s 6ms/step - loss: nan\n",
      "Epoch 6/20\n",
      "100/100 [==============================] - 1s 6ms/step - loss: nan\n",
      "Epoch 7/20\n",
      "100/100 [==============================] - 1s 6ms/step - loss: nan\n",
      "Epoch 8/20\n",
      "100/100 [==============================] - 1s 6ms/step - loss: nan\n",
      "Epoch 9/20\n",
      "100/100 [==============================] - 1s 6ms/step - loss: nan\n",
      "Epoch 10/20\n",
      "100/100 [==============================] - 1s 6ms/step - loss: nan\n",
      "Epoch 11/20\n",
      "100/100 [==============================] - 1s 6ms/step - loss: nan\n",
      "Epoch 12/20\n",
      "100/100 [==============================] - 1s 6ms/step - loss: nan\n",
      "Epoch 13/20\n",
      "100/100 [==============================] - 1s 6ms/step - loss: nan\n",
      "Epoch 14/20\n",
      "100/100 [==============================] - 1s 6ms/step - loss: nan\n",
      "Epoch 15/20\n",
      "100/100 [==============================] - 1s 6ms/step - loss: nan\n",
      "Epoch 16/20\n",
      "100/100 [==============================] - 1s 6ms/step - loss: nan\n",
      "Epoch 17/20\n",
      "100/100 [==============================] - 1s 6ms/step - loss: nan\n",
      "Epoch 18/20\n",
      "100/100 [==============================] - 1s 6ms/step - loss: nan\n",
      "Epoch 19/20\n",
      "100/100 [==============================] - 1s 6ms/step - loss: nan\n",
      "Epoch 20/20\n",
      "100/100 [==============================] - 1s 6ms/step - loss: nan\n"
     ]
    }
   ],
   "source": [
    "hist = VAE.fit(X_train,X_train,epochs=20,batch_size=500,validation_data=(X_val,X_val))"
   ]
  },
  {
   "cell_type": "markdown",
   "id": "cf0a7aa5",
   "metadata": {},
   "source": [
    "## prediction"
   ]
  },
  {
   "cell_type": "code",
   "execution_count": 81,
   "id": "bdef7b43",
   "metadata": {},
   "outputs": [],
   "source": [
    "y_p = VAE.predict(X_test)"
   ]
  },
  {
   "cell_type": "code",
   "execution_count": 82,
   "id": "63847c8d",
   "metadata": {},
   "outputs": [
    {
     "data": {
      "image/png": "[encoded data removed]",
      "text/plain": [
       "<Figure size 1800x400 with 20 Axes>"
      ]
     },
     "metadata": {},
     "output_type": "display_data"
    }
   ],
   "source": [
    "# Utiliser l'autoencodeur pour obtenir des reconstructions des données de test\n",
    "reconstructed_images = y_p\n",
    "\n",
    "# Choisir un échantillon d'images de test à afficher\n",
    "num_images_to_display = 10\n",
    "random_indices = np.random.choice(range(len(X_test)), num_images_to_display)\n",
    "\n",
    "# Afficher les images originales et leurs reconstructions\n",
    "plt.figure(figsize=(18, 4))\n",
    "for i, image_index in enumerate(random_indices):\n",
    "    # Image originale\n",
    "    plt.subplot(2, num_images_to_display, i + 1)\n",
    "    plt.imshow(X_test[image_index].reshape(28, 28), cmap='gray')\n",
    "    plt.title(\"Original\")\n",
    "    plt.axis('off')\n",
    "    \n",
    "    # Reconstruction\n",
    "    plt.subplot(2, num_images_to_display, i + 1 + num_images_to_display)\n",
    "    plt.imshow(reconstructed_images[image_index].reshape(28, 28), cmap='gray')\n",
    "    plt.title(\"Reconstruction\")\n",
    "    plt.axis('off')\n",
    "\n",
    "plt.tight_layout()\n",
    "plt.show()"
   ]
  },
  {
   "cell_type": "code",
   "execution_count": null,
   "id": "652e606c",
   "metadata": {},
   "outputs": [],
   "source": []
  }
 ],
 "metadata": {
  "kernelspec": {
   "display_name": "Python 3 (ipykernel)",
   "language": "python",
   "name": "python3"
  },
  "language_info": {
   "codemirror_mode": {
    "name": "ipython",
    "version": 3
   },
   "file_extension": ".py",
   "mimetype": "text/x-python",
   "name": "python",
   "nbconvert_exporter": "python",
   "pygments_lexer": "ipython3",
   "version": "3.7.16"
  }
 },
 "nbformat": 4,
 "nbformat_minor": 5
}
